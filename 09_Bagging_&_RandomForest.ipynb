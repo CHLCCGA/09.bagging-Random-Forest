{
 "cells": [
  {
   "cell_type": "markdown",
   "metadata": {},
   "source": [
    "# Ensemble Learning"
   ]
  },
  {
   "cell_type": "code",
   "execution_count": 1,
   "metadata": {},
   "outputs": [
    {
     "name": "stderr",
     "output_type": "stream",
     "text": [
      "d:\\CODE\\Lib\\site-packages\\_distutils_hack\\__init__.py:33: UserWarning: Setuptools is replacing distutils.\n",
      "  warnings.warn(\"Setuptools is replacing distutils.\")\n"
     ]
    }
   ],
   "source": [
    "import numpy as np\n",
    "import pandas as pd\n",
    "import sklearn\n",
    "import matplotlib as mlp\n",
    "import seaborn as sns\n",
    "import re, pip, conda"
   ]
  },
  {
   "cell_type": "code",
   "execution_count": 2,
   "metadata": {},
   "outputs": [
    {
     "name": "stdout",
     "output_type": "stream",
     "text": [
      "sklearn 1.3.0\n",
      "matplotlib 3.8.0\n",
      "numpy 1.24.3\n",
      "pandas 2.1.1\n",
      "seaborn 0.12.2\n",
      "pip 23.2.1\n",
      "conda 23.10.0\n"
     ]
    }
   ],
   "source": [
    "for package in [sklearn, mlp, np, pd, sns, pip, conda]:\n",
    "    print(re.findall(\"([^']*)\",str(package))[2],package.__version__)"
   ]
  },
  {
   "cell_type": "code",
   "execution_count": null,
   "metadata": {},
   "outputs": [],
   "source": [
    "#pip install --upgrade scikit-learn\n",
    "#conda update scikit-learn"
   ]
  },
  {
   "cell_type": "markdown",
   "metadata": {},
   "source": [
    "---"
   ]
  },
  {
   "cell_type": "markdown",
   "metadata": {},
   "source": [
    "- ### Ensenble Learning"
   ]
  },
  {
   "cell_type": "markdown",
   "metadata": {},
   "source": [
    "Ensemble learning is one of the most advanced, effective, and research-worthy fields in machine learning. This type of method trains multiple weak estimators (base estimators) and converts their output results in some way. Combined to solve a problem."
   ]
  },
  {
   "cell_type": "markdown",
   "metadata": {},
   "source": [
    "- Three main research areas\n",
    "- - **Model Fusion**\n",
    "     Model fusion was originally called \"classifier combination\". This field mainly focused on strong evaluators, trying to design powerful rules to fuse the results of strong classifiers to obtain better fusion results. Methods in this field mainly include voting, stacking, blending, etc., and the fused model needs to be a strong classifier.\n",
    "- - **Weak Classifier Ensemble**\n",
    "     Weak classifier integration mainly focuses on the integration of traditional machine learning algorithms. This field covers most of the integration algorithms and integration methods we are familiar with, such as bagging and boosting. This field attempts to design powerful ensemble algorithms to improve multiple weak learners into strong learners. \n",
    "- - **mixture of experts** (mixture of experts)\n",
    "     Mixed expert models often appear in the field of deep learning (neural networks). In other integration fields, different learners are trained on the same task or even on the same data, but in the hybrid expert model, we decompose a complex task into several relatively simple and smaller subtasks. Individual learners (experts) are then trained for different subtasks, and the results of these individual learners are then combined to derive the final output."
   ]
  },
  {
   "cell_type": "markdown",
   "metadata": {},
   "source": [
    "---"
   ]
  },
  {
   "cell_type": "markdown",
   "metadata": {},
   "source": [
    "- ### Bagging"
   ]
  },
  {
   "cell_type": "markdown",
   "metadata": {},
   "source": [
    "It is one of the most famous, simplest, and most effective operations among all ensemble learning methods.\n",
    "\n",
    "In bagging, we build multiple weak estimator (usually decision trees, but also other nonlinear algorithms) in parallel, and combine the results of multiple weak estimator for output. When the goal of the ensemble algorithm is a regression task, the output result of the ensemble algorithm is the average of the results output by the weak evaluator. When the goal of the ensemble algorithm is a classification task, the output result of the ensemble algorithm is the result output by the weak evaluator. The minority obeys the majority."
   ]
  },
  {
   "cell_type": "markdown",
   "metadata": {},
   "source": [
    "|Bagging算法|集成类|\n",
    "|:--:|:--:|\n",
    "|随机森林分类|RandmForestClassifier|\n",
    "|随机森林回归|RandomForestRegressor|\n",
    "|极端随机树分类|ExtraTreesClassifier|\n",
    "|极端随机树回归|ExtraTreesRegressor|\n",
    "|装袋法分类|BaggingClassifier|\n",
    "|装袋法回归|BaggingRegressor|"
   ]
  },
  {
   "cell_type": "markdown",
   "metadata": {},
   "source": [
    "---"
   ]
  },
  {
   "cell_type": "markdown",
   "metadata": {},
   "source": [
    "- ### RandomForest"
   ]
  },
  {
   "cell_type": "markdown",
   "metadata": {},
   "source": [
    "**Randomly sample different subsets from the provided data to build multiple different decision trees, and integrate the results of a single decision tree according to the rules of bagging (average for regression, minority obeys the majority for classification) , random forest is often the first algorithm we try on small and medium-sized data.**"
   ]
  },
  {
   "cell_type": "markdown",
   "metadata": {},
   "source": [
    "- - RandomForestRegressor"
   ]
  },
  {
   "cell_type": "code",
   "execution_count": 2,
   "metadata": {},
   "outputs": [],
   "source": [
    "import matplotlib.pyplot as plt\n",
    "from sklearn.ensemble import RandomForestRegressor as RFR\n",
    "from sklearn.tree import DecisionTreeRegressor as DTR\n",
    "from sklearn.model_selection import cross_validate, KFold"
   ]
  },
  {
   "cell_type": "code",
   "execution_count": 6,
   "metadata": {},
   "outputs": [],
   "source": [
    "data = pd.read_csv(r\"D:\\Practice\\Machine Learning\\datasets\\House Price\\train_encode.csv\", index_col=0)"
   ]
  },
  {
   "cell_type": "code",
   "execution_count": 5,
   "metadata": {},
   "outputs": [
    {
     "data": {
      "text/html": [
       "<div>\n",
       "<style scoped>\n",
       "    .dataframe tbody tr th:only-of-type {\n",
       "        vertical-align: middle;\n",
       "    }\n",
       "\n",
       "    .dataframe tbody tr th {\n",
       "        vertical-align: top;\n",
       "    }\n",
       "\n",
       "    .dataframe thead th {\n",
       "        text-align: right;\n",
       "    }\n",
       "</style>\n",
       "<table border=\"1\" class=\"dataframe\">\n",
       "  <thead>\n",
       "    <tr style=\"text-align: right;\">\n",
       "      <th></th>\n",
       "      <th>Id</th>\n",
       "      <th>住宅类型</th>\n",
       "      <th>住宅区域</th>\n",
       "      <th>街道接触面积(英尺)</th>\n",
       "      <th>住宅面积</th>\n",
       "      <th>街道路面状况</th>\n",
       "      <th>巷子路面状况</th>\n",
       "      <th>住宅形状(大概)</th>\n",
       "      <th>住宅现状</th>\n",
       "      <th>水电气</th>\n",
       "      <th>...</th>\n",
       "      <th>泳池面积</th>\n",
       "      <th>泳池质量</th>\n",
       "      <th>篱笆质量</th>\n",
       "      <th>其他配置</th>\n",
       "      <th>其他配置的价值</th>\n",
       "      <th>销售月份</th>\n",
       "      <th>销售年份</th>\n",
       "      <th>销售类型</th>\n",
       "      <th>销售状态</th>\n",
       "      <th>SalePrice</th>\n",
       "    </tr>\n",
       "  </thead>\n",
       "  <tbody>\n",
       "    <tr>\n",
       "      <th>0</th>\n",
       "      <td>0.0</td>\n",
       "      <td>5.0</td>\n",
       "      <td>3.0</td>\n",
       "      <td>36.0</td>\n",
       "      <td>327.0</td>\n",
       "      <td>1.0</td>\n",
       "      <td>0.0</td>\n",
       "      <td>3.0</td>\n",
       "      <td>3.0</td>\n",
       "      <td>0.0</td>\n",
       "      <td>...</td>\n",
       "      <td>0.0</td>\n",
       "      <td>0.0</td>\n",
       "      <td>0.0</td>\n",
       "      <td>0.0</td>\n",
       "      <td>0.0</td>\n",
       "      <td>1.0</td>\n",
       "      <td>2.0</td>\n",
       "      <td>8.0</td>\n",
       "      <td>4.0</td>\n",
       "      <td>208500</td>\n",
       "    </tr>\n",
       "    <tr>\n",
       "      <th>1</th>\n",
       "      <td>1.0</td>\n",
       "      <td>0.0</td>\n",
       "      <td>3.0</td>\n",
       "      <td>51.0</td>\n",
       "      <td>498.0</td>\n",
       "      <td>1.0</td>\n",
       "      <td>0.0</td>\n",
       "      <td>3.0</td>\n",
       "      <td>3.0</td>\n",
       "      <td>0.0</td>\n",
       "      <td>...</td>\n",
       "      <td>0.0</td>\n",
       "      <td>0.0</td>\n",
       "      <td>0.0</td>\n",
       "      <td>0.0</td>\n",
       "      <td>0.0</td>\n",
       "      <td>4.0</td>\n",
       "      <td>1.0</td>\n",
       "      <td>8.0</td>\n",
       "      <td>4.0</td>\n",
       "      <td>181500</td>\n",
       "    </tr>\n",
       "    <tr>\n",
       "      <th>2</th>\n",
       "      <td>2.0</td>\n",
       "      <td>5.0</td>\n",
       "      <td>3.0</td>\n",
       "      <td>39.0</td>\n",
       "      <td>702.0</td>\n",
       "      <td>1.0</td>\n",
       "      <td>0.0</td>\n",
       "      <td>0.0</td>\n",
       "      <td>3.0</td>\n",
       "      <td>0.0</td>\n",
       "      <td>...</td>\n",
       "      <td>0.0</td>\n",
       "      <td>0.0</td>\n",
       "      <td>0.0</td>\n",
       "      <td>0.0</td>\n",
       "      <td>0.0</td>\n",
       "      <td>8.0</td>\n",
       "      <td>2.0</td>\n",
       "      <td>8.0</td>\n",
       "      <td>4.0</td>\n",
       "      <td>223500</td>\n",
       "    </tr>\n",
       "    <tr>\n",
       "      <th>3</th>\n",
       "      <td>3.0</td>\n",
       "      <td>6.0</td>\n",
       "      <td>3.0</td>\n",
       "      <td>31.0</td>\n",
       "      <td>489.0</td>\n",
       "      <td>1.0</td>\n",
       "      <td>0.0</td>\n",
       "      <td>0.0</td>\n",
       "      <td>3.0</td>\n",
       "      <td>0.0</td>\n",
       "      <td>...</td>\n",
       "      <td>0.0</td>\n",
       "      <td>0.0</td>\n",
       "      <td>0.0</td>\n",
       "      <td>0.0</td>\n",
       "      <td>0.0</td>\n",
       "      <td>1.0</td>\n",
       "      <td>0.0</td>\n",
       "      <td>8.0</td>\n",
       "      <td>0.0</td>\n",
       "      <td>140000</td>\n",
       "    </tr>\n",
       "    <tr>\n",
       "      <th>4</th>\n",
       "      <td>4.0</td>\n",
       "      <td>5.0</td>\n",
       "      <td>3.0</td>\n",
       "      <td>55.0</td>\n",
       "      <td>925.0</td>\n",
       "      <td>1.0</td>\n",
       "      <td>0.0</td>\n",
       "      <td>0.0</td>\n",
       "      <td>3.0</td>\n",
       "      <td>0.0</td>\n",
       "      <td>...</td>\n",
       "      <td>0.0</td>\n",
       "      <td>0.0</td>\n",
       "      <td>0.0</td>\n",
       "      <td>0.0</td>\n",
       "      <td>0.0</td>\n",
       "      <td>11.0</td>\n",
       "      <td>2.0</td>\n",
       "      <td>8.0</td>\n",
       "      <td>4.0</td>\n",
       "      <td>250000</td>\n",
       "    </tr>\n",
       "  </tbody>\n",
       "</table>\n",
       "<p>5 rows × 81 columns</p>\n",
       "</div>"
      ],
      "text/plain": [
       "    Id  住宅类型  住宅区域  街道接触面积(英尺)   住宅面积  街道路面状况  巷子路面状况  住宅形状(大概)  住宅现状  水电气  \\\n",
       "0  0.0   5.0   3.0        36.0  327.0     1.0     0.0       3.0   3.0  0.0   \n",
       "1  1.0   0.0   3.0        51.0  498.0     1.0     0.0       3.0   3.0  0.0   \n",
       "2  2.0   5.0   3.0        39.0  702.0     1.0     0.0       0.0   3.0  0.0   \n",
       "3  3.0   6.0   3.0        31.0  489.0     1.0     0.0       0.0   3.0  0.0   \n",
       "4  4.0   5.0   3.0        55.0  925.0     1.0     0.0       0.0   3.0  0.0   \n",
       "\n",
       "   ...  泳池面积  泳池质量  篱笆质量  其他配置  其他配置的价值  销售月份  销售年份  销售类型  销售状态  SalePrice  \n",
       "0  ...   0.0   0.0   0.0   0.0      0.0   1.0   2.0   8.0   4.0     208500  \n",
       "1  ...   0.0   0.0   0.0   0.0      0.0   4.0   1.0   8.0   4.0     181500  \n",
       "2  ...   0.0   0.0   0.0   0.0      0.0   8.0   2.0   8.0   4.0     223500  \n",
       "3  ...   0.0   0.0   0.0   0.0      0.0   1.0   0.0   8.0   0.0     140000  \n",
       "4  ...   0.0   0.0   0.0   0.0      0.0  11.0   2.0   8.0   4.0     250000  \n",
       "\n",
       "[5 rows x 81 columns]"
      ]
     },
     "execution_count": 5,
     "metadata": {},
     "output_type": "execute_result"
    }
   ],
   "source": [
    "data.head()"
   ]
  },
  {
   "cell_type": "code",
   "execution_count": 5,
   "metadata": {},
   "outputs": [
    {
     "ename": "NameError",
     "evalue": "name 'data' is not defined",
     "output_type": "error",
     "traceback": [
      "\u001b[1;31m---------------------------------------------------------------------------\u001b[0m",
      "\u001b[1;31mNameError\u001b[0m                                 Traceback (most recent call last)",
      "Cell \u001b[1;32mIn[5], line 1\u001b[0m\n\u001b[1;32m----> 1\u001b[0m data\u001b[38;5;241m.\u001b[39mshape\n",
      "\u001b[1;31mNameError\u001b[0m: name 'data' is not defined"
     ]
    }
   ],
   "source": [
    "data.shape"
   ]
  },
  {
   "cell_type": "code",
   "execution_count": 7,
   "metadata": {},
   "outputs": [],
   "source": [
    "X = data.iloc[:, :-1]\n",
    "y = data.iloc[:, -1]"
   ]
  },
  {
   "cell_type": "code",
   "execution_count": 8,
   "metadata": {},
   "outputs": [
    {
     "data": {
      "text/plain": [
       "0       208500\n",
       "1       181500\n",
       "2       223500\n",
       "3       140000\n",
       "4       250000\n",
       "         ...  \n",
       "1455    175000\n",
       "1456    210000\n",
       "1457    266500\n",
       "1458    142125\n",
       "1459    147500\n",
       "Name: SalePrice, Length: 1460, dtype: int64"
      ]
     },
     "execution_count": 8,
     "metadata": {},
     "output_type": "execute_result"
    }
   ],
   "source": [
    "y"
   ]
  },
  {
   "cell_type": "code",
   "execution_count": 9,
   "metadata": {},
   "outputs": [
    {
     "data": {
      "text/plain": [
       "180921.19589041095"
      ]
     },
     "execution_count": 9,
     "metadata": {},
     "output_type": "execute_result"
    }
   ],
   "source": [
    "y.mean()"
   ]
  },
  {
   "cell_type": "code",
   "execution_count": 10,
   "metadata": {},
   "outputs": [
    {
     "data": {
      "text/plain": [
       "(1460, 80)"
      ]
     },
     "execution_count": 10,
     "metadata": {},
     "output_type": "execute_result"
    }
   ],
   "source": [
    "X.shape"
   ]
  },
  {
   "cell_type": "code",
   "execution_count": 11,
   "metadata": {},
   "outputs": [
    {
     "data": {
      "text/plain": [
       "['Id',\n",
       " '住宅类型',\n",
       " '住宅区域',\n",
       " '街道接触面积(英尺)',\n",
       " '住宅面积',\n",
       " '街道路面状况',\n",
       " '巷子路面状况',\n",
       " '住宅形状(大概)',\n",
       " '住宅现状',\n",
       " '水电气',\n",
       " '住宅配置',\n",
       " '住宅视野',\n",
       " '社区',\n",
       " '住宅周边1',\n",
       " '住宅周边2',\n",
       " '适用家庭',\n",
       " '住宅房型',\n",
       " '装修质量',\n",
       " '整体质量',\n",
       " '建造年份',\n",
       " '法律拆除年份',\n",
       " '天花板类型',\n",
       " '天花板材料',\n",
       " '户外装饰1',\n",
       " '户外装饰2',\n",
       " '砖墙类型',\n",
       " '砖墙面积',\n",
       " '户外材料质量',\n",
       " '户外装修质量',\n",
       " '地下室类型',\n",
       " '地下室深度',\n",
       " '地下室质量',\n",
       " '花园外墙',\n",
       " '地下室现状1',\n",
       " '地下室一层标准面积',\n",
       " '地下室现状2',\n",
       " '地下室二层标准面积',\n",
       " '地下室建造现状',\n",
       " '整体地下室面积',\n",
       " '暖气类型',\n",
       " '暖气质量',\n",
       " '中央空调',\n",
       " '电力系统',\n",
       " '二楼面积',\n",
       " '三楼面积',\n",
       " '全低质量面积',\n",
       " '户外活动空间面积',\n",
       " '全卫地下室',\n",
       " '半卫地下室',\n",
       " '全卫及以上',\n",
       " '半卫及以上',\n",
       " '卧室及以上',\n",
       " '厨房及以上',\n",
       " '厨房质量',\n",
       " '总房间量',\n",
       " '住宅性能',\n",
       " '壁炉数量',\n",
       " '壁炉质量',\n",
       " '车库类型',\n",
       " '车库建造时间',\n",
       " '车库装修现状',\n",
       " '车位数量',\n",
       " '车库面积',\n",
       " '车库质量',\n",
       " '车库现状',\n",
       " '石板路',\n",
       " '木板面积',\n",
       " '开放式门廊面积',\n",
       " '关闭式门廊面积',\n",
       " '三季门廊面积',\n",
       " '半开放式门廊面积',\n",
       " '泳池面积',\n",
       " '泳池质量',\n",
       " '篱笆质量',\n",
       " '其他配置',\n",
       " '其他配置的价值',\n",
       " '销售月份',\n",
       " '销售年份',\n",
       " '销售类型',\n",
       " '销售状态']"
      ]
     },
     "execution_count": 11,
     "metadata": {},
     "output_type": "execute_result"
    }
   ],
   "source": [
    "X.columns.tolist()"
   ]
  },
  {
   "cell_type": "code",
   "execution_count": 12,
   "metadata": {},
   "outputs": [],
   "source": [
    "reg_f = RFR()\n",
    "reg_t = DTR()\n",
    "cv = KFold(n_splits=5, shuffle=True, random_state=21)"
   ]
  },
  {
   "cell_type": "markdown",
   "metadata": {},
   "source": [
    "|cross_validate|参数|\n",
    "|---|---|\n",
    "|n_jobs|允许该程序调用的线程数|\n",
    "|verbose|是否打印进度|"
   ]
  },
  {
   "cell_type": "code",
   "execution_count": 14,
   "metadata": {},
   "outputs": [
    {
     "name": "stderr",
     "output_type": "stream",
     "text": [
      "[Parallel(n_jobs=-1)]: Using backend LokyBackend with 12 concurrent workers.\n"
     ]
    },
    {
     "name": "stderr",
     "output_type": "stream",
     "text": [
      "[Parallel(n_jobs=-1)]: Done   5 out of   5 | elapsed:    3.3s finished\n"
     ]
    }
   ],
   "source": [
    "result_t = cross_validate(reg_t,\n",
    "                          X, y,\n",
    "                          cv=cv,\n",
    "                          scoring=\"neg_mean_squared_error\",\n",
    "                          return_train_score=True,\n",
    "                          verbose=True,\n",
    "                          n_jobs=-1)"
   ]
  },
  {
   "cell_type": "markdown",
   "metadata": {},
   "source": [
    "> 12 线程Using backend LokyBackend with 12 concurrent workers "
   ]
  },
  {
   "cell_type": "code",
   "execution_count": 16,
   "metadata": {},
   "outputs": [
    {
     "name": "stderr",
     "output_type": "stream",
     "text": [
      "[Parallel(n_jobs=-1)]: Using backend LokyBackend with 12 concurrent workers.\n",
      "[Parallel(n_jobs=-1)]: Done   5 out of   5 | elapsed:    7.9s finished\n"
     ]
    }
   ],
   "source": [
    "result_f = cross_validate(reg_f,X,y,cv=cv,scoring=\"neg_mean_squared_error\"\n",
    "                          ,return_train_score=True\n",
    "                          ,verbose=True\n",
    "                          ,n_jobs=-1)"
   ]
  },
  {
   "cell_type": "code",
   "execution_count": 15,
   "metadata": {},
   "outputs": [
    {
     "data": {
      "text/plain": [
       "{'fit_time': array([0.09904909, 0.09904909, 0.10006952, 0.09374547, 0.10227728]),\n",
       " 'score_time': array([0.01566029, 0.        , 0.        , 0.        , 0.        ]),\n",
       " 'test_score': array([-1.57517902e+09, -2.26371485e+09, -1.69274844e+09, -1.56489595e+09,\n",
       "        -1.65591423e+09]),\n",
       " 'train_score': array([-0., -0., -0., -0., -0.])}"
      ]
     },
     "execution_count": 15,
     "metadata": {},
     "output_type": "execute_result"
    }
   ],
   "source": [
    "result_t # overfitting"
   ]
  },
  {
   "cell_type": "code",
   "execution_count": 17,
   "metadata": {},
   "outputs": [
    {
     "data": {
      "text/plain": [
       "{'fit_time': array([5.63731813, 5.78019619, 5.8754096 , 5.98113656, 5.78019619]),\n",
       " 'score_time': array([0.02687645, 0.02677584, 0.02122712, 0.02356911, 0.02677584]),\n",
       " 'test_score': array([-1.06859873e+09, -1.15568711e+09, -8.27318481e+08, -4.99893293e+08,\n",
       "        -7.63794686e+08]),\n",
       " 'train_score': array([-1.14210468e+08, -1.25035768e+08, -1.15787334e+08, -1.28594312e+08,\n",
       "        -1.42540730e+08])}"
      ]
     },
     "execution_count": 17,
     "metadata": {},
     "output_type": "execute_result"
    }
   ],
   "source": [
    "result_f "
   ]
  },
  {
   "cell_type": "markdown",
   "metadata": {},
   "source": [
    "**In ensemble learning, our indicator for measuring regression algorithms is generally RMSE (root mean square error), which is the result of taking the square root of MSE**. The labels of real data are often huge and the amount of data is complex. MSE as a square result will amplify the error in real data (such as the results obtained in the random forest results, $7*10^8$, etc.), so we will root the results. let the evaluation indicators of regression algorithms not be too exaggerated in value. Similarly, the variance, as a squared result, will be too large on real data, so if possible, we use the standard deviation to measure model stability."
   ]
  },
  {
   "cell_type": "code",
   "execution_count": 18,
   "metadata": {},
   "outputs": [],
   "source": [
    "trainRMSE_f = abs(result_f[\"train_score\"])**0.5\n",
    "testRMSE_f = abs(result_f[\"test_score\"])**0.5\n",
    "trainRMSE_t = abs(result_t[\"train_score\"])**0.5\n",
    "testRMSE_t = abs(result_t[\"test_score\"])**0.5"
   ]
  },
  {
   "cell_type": "code",
   "execution_count": 20,
   "metadata": {},
   "outputs": [
    {
     "data": {
      "text/plain": [
       "(11181.661375699874, 29088.620097906263, 451.8529542451099)"
      ]
     },
     "execution_count": 20,
     "metadata": {},
     "output_type": "execute_result"
    }
   ],
   "source": [
    "trainRMSE_f.mean(), testRMSE_f.mean(), trainRMSE_f.std() "
   ]
  },
  {
   "cell_type": "code",
   "execution_count": 22,
   "metadata": {},
   "outputs": [
    {
     "data": {
      "text/plain": [
       "<matplotlib.legend.Legend at 0x18a696e3d90>"
      ]
     },
     "execution_count": 22,
     "metadata": {},
     "output_type": "execute_result"
    },
    {
     "data": {
      "image/png": "[encoded data removed]",
      "text/plain": [
       "<Figure size 640x480 with 1 Axes>"
      ]
     },
     "metadata": {},
     "output_type": "display_data"
    }
   ],
   "source": [
    "xaxis = range(1, 6)\n",
    "plt.figure(figsize=(8, 6), dpi=80)\n",
    "\n",
    "plt.plot(xaxis,trainRMSE_f,color=\"green\",label = \"RandomForestTrain\")\n",
    "plt.plot(xaxis,testRMSE_f,color=\"green\",linestyle=\"--\",label = \"RandomForestTest\")\n",
    "plt.plot(xaxis,trainRMSE_t,color=\"orange\",label = \"DecisionTreeTrain\")\n",
    "plt.plot(xaxis,testRMSE_t,color=\"orange\",linestyle=\"--\",label = \"DecisionTreeTest\")\n",
    "plt.xticks([1,2,3,4,5])\n",
    "plt.xlabel(\"CVcounts\", fontsize=16)\n",
    "plt.ylabel(\"RMSE\", fontsize=16)\n",
    "plt.legend()\n",
    "# plt.show()"
   ]
  },
  {
   "cell_type": "markdown",
   "metadata": {},
   "source": [
    "|类型|参数|\n",
    "|---|---|\n",
    "|**弱分类器数量**|**<font color=\"green\">n_estimators</font>**|\n",
    "|**弱分类器的训练数据**|**<font color=\"green\">bootstrap, oob_score, max_samples</font>**, max_features, random_state|\n",
    "|**弱分类器结构**|criterion, max_depth, min_samples_split, <br>min_samples_leaf, min_weight_fraction_leaf, max_leaf_nodes,<br>min_impurity_decrease|\n",
    "|**其他**|n_jobs, verbose, ccp_alpha|\n",
    "|类型|参数|\n",
    "|----|----|\n",
    "|**弱分类器结构**|criterion：弱评估器分枝时的不纯度衡量指标<br><br>max_depth：弱评估器被允许的最大深度，默认None<br><br>min_samples_split：弱评估器分枝时，父节点上最少要拥有的样本个数<br><br>min_samples_leaf：弱评估器的叶子节点上最少要拥有的样本个数<br><br>min_weight_fraction_leaf：当样本权重被调整时，叶子节点上最少要拥有的样本权重<br><br>max_leaf_nodes：弱评估器上最多可以有的叶子节点数量<br><br>min_impurity_decrease：弱评估器分枝时允许的最小不纯度下降量|"
   ]
  },
  {
   "cell_type": "markdown",
   "metadata": {},
   "source": [
    "> criterion与feature_importances_\n",
    "\n",
    "regression criterion: \"squared_error\"（平方误差），\"absolute_error\"（绝对误差）& \"poisson\"（泊松偏差）。对任意样本$i$而言，$y_i$为真实标签，$\\hat{y_i}$为预测标签，则各个criterion的表达式为：\n",
    "\n",
    "平方误差：$\\sum{(y_i - \\hat{y_i})^2}$<br><br>\n",
    "绝对误差：$\\sum{|y_i - \\hat{y_i}|}$<br><br>\n",
    "泊松偏差：$2\\sum{(y_ilog(\\frac{y_i}{\\hat{y_i}})-(y_i - \\hat{y_i}))}$\n",
    "\n",
    "平方误差比绝对误差更敏感（类似于信息熵比基尼系数更敏感），并且在计算上平方误差比绝对误差快很多。泊松偏差则是适用于一个特殊场景的：当需要预测的标签全部为正整数时，标签的分布可以被认为是类似于泊松分布的。正整数预测在实际应用中非常常见，比如预测点击量、预测客户/离职人数、预测销售量等。我们现在正在使用的数据（房价预测），也可能比较适合于泊松偏差。\n"
   ]
  },
  {
   "cell_type": "markdown",
   "metadata": {},
   "source": [
    "- Adjust tree structure to control overfitting\n",
    "\n",
    ">max_depth\n",
    "\n",
    "The roughest pruning method, from the perspective of the tree structure, is the parameter that has the greatest impact on the random forest's ability to resist overfitting. The default value of max_depth is None, which means there is no depth limit. Therefore, choosing a small max_depth can be effective when random forests behave like overfitting.\n",
    "\n",
    "> max_leaf_nodes and min_sample_split\n",
    "\n",
    "A more refined branch reduction method than max_depth, but it limits the number of leaves and branches, allowing both fine-tuning and drastic pruning. The default value of max_leaf_nodes is None, which means there is no limit on the number of leaves. The default value of min_sample_split is 2, which is equivalent to not limiting branches.\n",
    "\n",
    "> min_impurity_decrease\n",
    "\n",
    "The most sophisticated method of branch reduction can reduce the corresponding leaves according to the degree of impurity reduction. The default value is 0, so it is a fairly generous parameter."
   ]
  },
  {
   "cell_type": "markdown",
   "metadata": {},
   "source": [
    "> n_estimators\n",
    "\n",
    "n_estimators is the number of trees in the forest, that is, the number of weak estimators. The default is 100 in sklearn. It is the only parameter that is required for random forests. **n_estimators have a great impact on the accuracy, complexity, learning ability, overfitting, required calculations and calculation time of the random forest model. Therefore, n_estimators are often the first thing we need when adjusting the random forest. Confirmed parameters**. For a single decision tree, the model complexity is determined by the tree structure (tree depth, tree width, number of leaves on the tree, etc.) and the amount of data (sample size, feature amount), while for a random forest, the model complexity is determined by The number of trees in the forest, the tree structure and the amount of data are determined. The greater the number of trees, the more complex the model.\n",
    "\n",
    "Remember the image we drew when explaining decision trees and logistic regression? When the model complexity increases, the model's generalization ability will first increase and then decrease (the relative generalization error will first decrease and then increase). We need to find the complexity with the best model generalization ability. **In actual training, the optimal complexity is often an obvious turning point**. When the complexity is higher than the optimal complexity, the generalization error of the model either starts to rise or stops declining.\n",
    "\n",
    "<img src=\"https://tva1.sinaimg.cn/large/008i3skNly1gs3wqah1w2j30pu0iaadu.jpg\" alt=\"1\" style=\"zoom:33%;\" />\n",
    "\n",
    "For random forests, the abscissa of the image can be seamlessly switched to the value on the parameter n_estimators. When n_estimators is larger:\n",
    "- As the complexity of the model increases, generalization can first increase and then weaken (or remain unchanged)\n",
    "- The learning ability of the model is getting stronger and stronger, the score on the training set may be getting higher and higher, and the risk of over-fitting is getting higher and higher.\n",
    "- Models require more and more computing power and memory\n",
    "- Model training will take longer and longer\n",
    "\n",
    "Therefore, when adjusting n_estimators, we are always eager to strike a balance between model effect and training difficulty. At the same time, we also need to use cross-validation to keep an eye on model overfitting. In the current version of sklearn, the default value of n_estimators is 100, and the number of n_estimators that a personal computer can tolerate is about 200~1000."
   ]
  },
  {
   "cell_type": "code",
   "execution_count": 3,
   "metadata": {},
   "outputs": [],
   "source": [
    "def RMSE(cvresult,key):\n",
    "    return (abs(cvresult[key])**0.5).mean()"
   ]
  },
  {
   "cell_type": "code",
   "execution_count": 8,
   "metadata": {},
   "outputs": [
    {
     "name": "stderr",
     "output_type": "stream",
     "text": [
      "[Parallel(n_jobs=-1)]: Using backend LokyBackend with 12 concurrent workers.\n",
      "[Parallel(n_jobs=-1)]: Done   5 out of   5 | elapsed:    3.4s finished\n"
     ]
    }
   ],
   "source": [
    "reg_f = RFR(n_estimators=3)\n",
    "cv = KFold(n_splits=5,shuffle=True,random_state=1412)\n",
    "result_f = cross_validate(reg_f,X,y,cv=cv,scoring=\"neg_mean_squared_error\"\n",
    "                          ,return_train_score=True\n",
    "                          ,verbose=True\n",
    "                          ,n_jobs=-1)"
   ]
  },
  {
   "cell_type": "code",
   "execution_count": 9,
   "metadata": {},
   "outputs": [
    {
     "data": {
      "text/plain": [
       "36574.420876773256"
      ]
     },
     "execution_count": 9,
     "metadata": {},
     "output_type": "execute_result"
    }
   ],
   "source": [
    "RMSE(result_f,\"test_score\")"
   ]
  },
  {
   "cell_type": "code",
   "execution_count": 10,
   "metadata": {},
   "outputs": [
    {
     "name": "stderr",
     "output_type": "stream",
     "text": [
      "[Parallel(n_jobs=-1)]: Using backend LokyBackend with 12 concurrent workers.\n",
      "[Parallel(n_jobs=-1)]: Done   5 out of   5 | elapsed:    3.6s finished\n"
     ]
    }
   ],
   "source": [
    "reg_f = RFR(n_estimators=50)\n",
    "cv = KFold(n_splits=5,shuffle=True,random_state=1412)\n",
    "result_f = cross_validate(reg_f,X,y,cv=cv,scoring=\"neg_mean_squared_error\"\n",
    "                          ,return_train_score=True\n",
    "                          ,verbose=True\n",
    "                          ,n_jobs=-1)"
   ]
  },
  {
   "cell_type": "code",
   "execution_count": 11,
   "metadata": {},
   "outputs": [
    {
     "data": {
      "text/plain": [
       "30595.647078575817"
      ]
     },
     "execution_count": 11,
     "metadata": {},
     "output_type": "execute_result"
    }
   ],
   "source": [
    "RMSE(result_f,\"test_score\")"
   ]
  },
  {
   "cell_type": "code",
   "execution_count": 12,
   "metadata": {},
   "outputs": [
    {
     "name": "stderr",
     "output_type": "stream",
     "text": [
      "[Parallel(n_jobs=-1)]: Using backend LokyBackend with 12 concurrent workers.\n",
      "[Parallel(n_jobs=-1)]: Done   5 out of   5 | elapsed:   16.5s finished\n"
     ]
    }
   ],
   "source": [
    "reg_f = RFR(n_estimators=300)\n",
    "cv = KFold(n_splits=5,shuffle=True,random_state=1412)\n",
    "result_f = cross_validate(reg_f,X,y,cv=cv,scoring=\"neg_mean_squared_error\"\n",
    "                          ,return_train_score=True\n",
    "                          ,verbose=True\n",
    "                          ,n_jobs=-1)"
   ]
  },
  {
   "cell_type": "code",
   "execution_count": 13,
   "metadata": {},
   "outputs": [
    {
     "data": {
      "text/plain": [
       "30237.3178442212"
      ]
     },
     "execution_count": 13,
     "metadata": {},
     "output_type": "execute_result"
    }
   ],
   "source": [
    "RMSE(result_f,\"test_score\")"
   ]
  },
  {
   "cell_type": "markdown",
   "metadata": {},
   "source": [
    "- Random sampling of samples\n",
    "> bootstrap，oob_score，max_samples"
   ]
  },
  {
   "cell_type": "markdown",
   "metadata": {},
   "source": [
    "**The input of the bootstrap parameter is a Boolean value, and the default is True, which controls whether the data is randomly sampled before each decision tree is established**. If set to False, it means that all samples are used to build the tree each time. If it is True, the tree is randomly sampled to build the tree. From a linguistic sense, `bootstrap` can refer to any type of random sampling, but in random forests it specifically refers to **random sampling with replacement**.\n",
    "![RF3](https://pictes.oss-cn-beijing.aliyuncs.com/%E5%BE%AE%E8%AF%BE%20-%20sklearn/RFC/RF3.png)\n",
    "As shown in the figure below, in an original training set containing m samples, we perform random sampling. Sample one sample each time, and put the sample back into the original training set before extracting the next sample. That is to say, the sample may still be collected the next time you sample. In this way, max_samples is collected several times, and finally we get A bootstrap set composed of `max_samples` samples.\n",
    "**When the number of samples is enough and the original data set is large enough**\n",
    "\n",
    "$$\n",
    "1-(1-\\frac{1}{m})^{max\\_samples}\n",
    "$$"
   ]
  },
  {
   "cell_type": "markdown",
   "metadata": {},
   "source": [
    "- random sampling of features\n",
    "> max_features"
   ]
  },
  {
   "cell_type": "markdown",
   "metadata": {},
   "source": [
    "> Enter an integer, indicating that max_features features are randomly selected for each branch<br>\n",
    "> Enter a floating point number, which means that round(max_features * n_features) features are extracted for each branch<br>\n",
    "> Enter \"auto\" or None to use all features n_features<br> for each branch\n",
    "> Enter \"sqrt\" to use sqrt(n_features)<br> for each branch\n",
    "> Enter \"log2\", which means log2(n_features) is used for each branch<br>"
   ]
  },
  {
   "cell_type": "code",
   "execution_count": 14,
   "metadata": {},
   "outputs": [
    {
     "data": {
      "image/png": "[encoded data removed]",
      "text/plain": [
       "<Figure size 640x480 with 1 Axes>"
      ]
     },
     "metadata": {},
     "output_type": "display_data"
    }
   ],
   "source": [
    "sqrt_ = []\n",
    "log_ = []\n",
    "for n_features in range(1,101,2):\n",
    "    sqrt_.append(np.sqrt(n_features))\n",
    "    log_.append(np.log2(n_features))    \n",
    "xaxis = range(1,101,2)\n",
    "plt.figure(figsize=(8,6),dpi=80)\n",
    "#RMSE\n",
    "plt.plot(xaxis,sqrt_,color=\"green\",label = \"sqrt(n)\")\n",
    "plt.plot(xaxis,log_,color=\"orange\",label = \"log2(n)\")\n",
    "plt.xticks(range(1,101,10))\n",
    "plt.legend()\n",
    "plt.show()"
   ]
  },
  {
   "cell_type": "markdown",
   "metadata": {},
   "source": [
    "- random sampling pattern\n",
    "> random_state"
   ]
  },
  {
   "cell_type": "markdown",
   "metadata": {},
   "source": [
    "|Type|Parameters|\n",
    "|---|---|\n",
    "|**Training data for weak classifier**|<font color=\"green\">**bootstrap**</font>: Whether to randomly sample samples<br><br><font color=\"green\"> **oob_score**</font>: If random sampling is used, whether to use out-of-bag data as the validation set<br><br><font color=\"green\">**max_samples**</font>: If random sampling is used Sampling, the sample size of each random sampling<br><br>max_features: the number of randomly selected features<br><br>random_state: controls all random modes|"
   ]
  },
  {
   "cell_type": "markdown",
   "metadata": {},
   "source": [
    "|Type|Parameters|\n",
    "|---|---|\n",
    "|**Other**|n_jobs: The number of threads allowed to be called<br><br>verbose: Print the tree building process<br><br>ccp_alpha: The coefficient on the structural risk widetilde, which can be used Control overfitting<br><br>warm_start: Support incremental learning|"
   ]
  },
  {
   "cell_type": "markdown",
   "metadata": {},
   "source": [
    "---"
   ]
  },
  {
   "cell_type": "markdown",
   "metadata": {},
   "source": [
    "- ### Parameter space and grid optimization"
   ]
  },
  {
   "cell_type": "markdown",
   "metadata": {},
   "source": [
    "|Influence|Parameters|\n",
    "|:-:|:-:|\n",
    "|⭐⭐⭐⭐⭐<br>Almost always hugely influential|n_estimators (overall learning ability)<br>max_depth (rough pruning)<br>max_features (randomness)|\n",
    "|⭐⭐⭐⭐<br>Influential most of the time|max_samples (randomness)<br>class_weight (sample balance)|\n",
    "|⭐⭐<br>May have great influence<br>Most of the time the influence is not obvious|min_samples_split (fine pruning)<br>min_impurity_decrease (fine pruning)<br>max_leaf_nodes (fine pruning)<br>criterion (branch sensitivity) |\n",
    "|⭐<br>When the amount of data is large enough, there is almost no impact|random_state<br>ccp_alpha (structural risk)|"
   ]
  },
  {
   "cell_type": "code",
   "execution_count": 16,
   "metadata": {},
   "outputs": [],
   "source": [
    "Option = [1,*range(5,51,5)]\n",
    "#Option = [1,*range(5,101,5)]\n",
    "\n",
    "trainRMSE = np.array([])\n",
    "testRMSE = np.array([])\n",
    "trainSTD = np.array([])\n",
    "testSTD = np.array([])\n",
    "\n",
    "for n_estimators in Option:\n",
    "\n",
    "    reg_f = RFR(n_estimators=n_estimators,random_state=1412)\n",
    "    \n",
    "    cv = KFold(n_splits=5,shuffle=True,random_state=1412)\n",
    "    result_f = cross_validate(reg_f,X,y,cv=cv,scoring=\"neg_mean_squared_error\"\n",
    "                              ,return_train_score=True\n",
    "                              ,n_jobs=-1)\n",
    "    \n",
    "    train = abs(result_f[\"train_score\"])**0.5\n",
    "    test = abs(result_f[\"test_score\"])**0.5\n",
    "    \n",
    "    trainRMSE = np.append(trainRMSE,train.mean()) \n",
    "    testRMSE = np.append(testRMSE,test.mean())\n",
    "    trainSTD = np.append(trainSTD,train.std()) \n",
    "    testSTD = np.append(testSTD,test.std())"
   ]
  },
  {
   "cell_type": "code",
   "execution_count": 17,
   "metadata": {},
   "outputs": [],
   "source": [
    "def plotCVresult(Option,trainRMSE,testRMSE,trainSTD,testSTD):\n",
    "    xaxis = Option\n",
    "    plt.figure(figsize=(8,6),dpi=80)\n",
    "\n",
    "    #RMSE\n",
    "    plt.plot(xaxis,trainRMSE,color=\"k\",label = \"RandomForestTrain\")\n",
    "    plt.plot(xaxis,testRMSE,color=\"red\",label = \"RandomForestTest\")\n",
    "\n",
    "    #STD - 围绕在RMSE旁形成一个区间\n",
    "    plt.plot(xaxis,trainRMSE+trainSTD,color=\"k\",linestyle=\"dotted\")\n",
    "    plt.plot(xaxis,trainRMSE-trainSTD,color=\"k\",linestyle=\"dotted\")\n",
    "    plt.plot(xaxis,testRMSE+testSTD,color=\"red\",linestyle=\"dotted\")\n",
    "    plt.plot(xaxis,testRMSE-testSTD,color=\"red\",linestyle=\"dotted\")\n",
    "    plt.xticks([*xaxis])\n",
    "    plt.legend(loc=1)\n",
    "    plt.show()"
   ]
  },
  {
   "cell_type": "code",
   "execution_count": 18,
   "metadata": {},
   "outputs": [
    {
     "data": {
      "image/png": "[encoded data removed]",
      "text/plain": [
       "<Figure size 640x480 with 1 Axes>"
      ]
     },
     "metadata": {},
     "output_type": "display_data"
    }
   ],
   "source": [
    "plotCVresult(Option,trainRMSE,testRMSE,trainSTD,testSTD)"
   ]
  },
  {
   "cell_type": "markdown",
   "metadata": {},
   "source": [
    "When plotting a learning curve, we can easily find the turning point where the generalization error starts to rise, or changes to a plateauing trend. Therefore, we can choose the value of n_estimators at or near the turning point, such as 20. However, n_estimators are affected by other parameters, such as:\n",
    "\n",
    "> - When the structure of a single decision tree is simpler (when relying on pruning), more trees may be needed\n",
    "> - When the data for training a single decision tree is simpler (when relying on randomness), more trees may be needed\n",
    "\n",
    "Therefore, the parameter space of n_estimators can be determined as range(20,100,5), or even range(15,25,5) if you are more conservative."
   ]
  },
  {
   "cell_type": "markdown",
   "metadata": {},
   "source": [
    "- Decision tree object Tree"
   ]
  },
  {
   "cell_type": "code",
   "execution_count": 19,
   "metadata": {},
   "outputs": [],
   "source": [
    "reg_f = RFR(n_estimators=10,random_state=1412)\n",
    "reg_f = reg_f.fit(X,y) # randomforest"
   ]
  },
  {
   "cell_type": "code",
   "execution_count": 20,
   "metadata": {},
   "outputs": [
    {
     "data": {
      "text/plain": [
       "[DecisionTreeRegressor(max_features=1.0, random_state=1630984966),\n",
       " DecisionTreeRegressor(max_features=1.0, random_state=472863509),\n",
       " DecisionTreeRegressor(max_features=1.0, random_state=1082704530),\n",
       " DecisionTreeRegressor(max_features=1.0, random_state=1930362544),\n",
       " DecisionTreeRegressor(max_features=1.0, random_state=273973624),\n",
       " DecisionTreeRegressor(max_features=1.0, random_state=21991934),\n",
       " DecisionTreeRegressor(max_features=1.0, random_state=1886585710),\n",
       " DecisionTreeRegressor(max_features=1.0, random_state=63725675),\n",
       " DecisionTreeRegressor(max_features=1.0, random_state=1374343434),\n",
       " DecisionTreeRegressor(max_features=1.0, random_state=1078007175)]"
      ]
     },
     "execution_count": 20,
     "metadata": {},
     "output_type": "execute_result"
    }
   ],
   "source": [
    "reg_f.estimators_ #each tree in forest"
   ]
  },
  {
   "cell_type": "code",
   "execution_count": 21,
   "metadata": {},
   "outputs": [
    {
     "data": {
      "text/plain": [
       "(DecisionTreeRegressor(max_features=1.0, random_state=1630984966),\n",
       " <sklearn.tree._tree.Tree at 0x231b1e8a170>)"
      ]
     },
     "execution_count": 21,
     "metadata": {},
     "output_type": "execute_result"
    }
   ],
   "source": [
    "reg_f.estimators_[0], reg_f.estimators_[0].tree_"
   ]
  },
  {
   "cell_type": "code",
   "execution_count": 22,
   "metadata": {},
   "outputs": [
    {
     "data": {
      "text/plain": [
       "19"
      ]
     },
     "execution_count": 22,
     "metadata": {},
     "output_type": "execute_result"
    }
   ],
   "source": [
    "reg_f.estimators_[0].tree_.max_depth "
   ]
  },
  {
   "cell_type": "code",
   "execution_count": 23,
   "metadata": {},
   "outputs": [
    {
     "name": "stdout",
     "output_type": "stream",
     "text": [
      "19\n",
      "25\n",
      "27\n",
      "20\n",
      "23\n",
      "22\n",
      "22\n",
      "20\n",
      "22\n",
      "24\n"
     ]
    }
   ],
   "source": [
    "for t in reg_f.estimators_:\n",
    "    print(t.tree_.max_depth)"
   ]
  },
  {
   "cell_type": "code",
   "execution_count": 25,
   "metadata": {},
   "outputs": [],
   "source": [
    "reg_f = RFR(n_estimators=50,random_state=21)\n",
    "reg_f = reg_f.fit(X,y) \n",
    "d = pd.Series([],dtype=\"int64\")\n",
    "for idx,t in enumerate(reg_f.estimators_):\n",
    "    d[idx] = t.tree_.max_depth"
   ]
  },
  {
   "cell_type": "code",
   "execution_count": 26,
   "metadata": {},
   "outputs": [
    {
     "data": {
      "text/plain": [
       "21.88"
      ]
     },
     "execution_count": 26,
     "metadata": {},
     "output_type": "execute_result"
    }
   ],
   "source": [
    "d.mean()"
   ]
  },
  {
   "cell_type": "code",
   "execution_count": 27,
   "metadata": {},
   "outputs": [
    {
     "data": {
      "text/plain": [
       "count    50.000000\n",
       "mean     21.880000\n",
       "std       1.858681\n",
       "min      18.000000\n",
       "25%      20.000000\n",
       "50%      22.000000\n",
       "75%      23.000000\n",
       "max      25.000000\n",
       "dtype: float64"
      ]
     },
     "execution_count": 27,
     "metadata": {},
     "output_type": "execute_result"
    }
   ],
   "source": [
    "d.describe()"
   ]
  },
  {
   "cell_type": "markdown",
   "metadata": {},
   "source": [
    "> Assuming that your random forest is overfitting now, it will be more effective to set the maximum depth range of max_depth between [15,25]. If we want to prune vigorously, it can be set between [10,15].\n",
    "\n",
    "> Similarly, we can also call other properties to assist us in adjusting parameters:"
   ]
  },
  {
   "cell_type": "markdown",
   "metadata": {},
   "source": [
    "|Parameters|Parameter meaning|Corresponding attributes|Attribute meaning|\n",
    "|:-:|:-:|:-:|:-:|\n",
    "|n_estimators|Number of trees|reg.estimators_|All tree objects in the forest|\n",
    "|max_depth|Maximum depth allowed|.tree_.max_depth|Actual depth of tree No. 0|\n",
    "|max_leaf_nodes|Maximum number of <br>leaf nodes allowed|.tree_.node_count|The actual total number of nodes in tree No. 0|\n",
    "|min_sample_split|Minimum<br>sample size required for branches|.tree_.n_node_samples|Actual sample size on each leaf of tree No. 0|\n",
    "|min_weight_fraction_leaf|Minimum<br>sample weight required for branches|tree_.weighted_n_node_samples|The actual sample weight on each leaf of tree No. 0|\n",
    "|min_impurity_decrease|Minimum<br>impurity decrease required for branches|.tree_.impurity<br>.tree_.threshold|Actual impurity on each leaf of tree 0<br>Branch of each node of tree 0 Post-impurity reduction |"
   ]
  },
  {
   "cell_type": "code",
   "execution_count": 28,
   "metadata": {},
   "outputs": [
    {
     "data": {
      "text/plain": [
       "1779"
      ]
     },
     "execution_count": 28,
     "metadata": {},
     "output_type": "execute_result"
    }
   ],
   "source": [
    "reg_f.estimators_[0].tree_.node_count"
   ]
  },
  {
   "cell_type": "code",
   "execution_count": 29,
   "metadata": {},
   "outputs": [
    {
     "name": "stdout",
     "output_type": "stream",
     "text": [
      "1779\n",
      "1723\n",
      "1751\n",
      "1757\n",
      "1799\n",
      "1779\n",
      "1785\n",
      "1749\n",
      "1765\n",
      "1763\n",
      "1757\n",
      "1749\n",
      "1795\n",
      "1771\n",
      "1779\n",
      "1791\n",
      "1785\n",
      "1765\n",
      "1807\n",
      "1793\n",
      "1773\n",
      "1775\n",
      "1739\n",
      "1787\n",
      "1781\n",
      "1805\n",
      "1797\n",
      "1749\n",
      "1793\n",
      "1781\n",
      "1751\n",
      "1759\n",
      "1825\n",
      "1777\n",
      "1765\n",
      "1735\n",
      "1741\n",
      "1795\n",
      "1739\n",
      "1791\n",
      "1795\n",
      "1775\n",
      "1813\n",
      "1779\n",
      "1765\n",
      "1805\n",
      "1705\n",
      "1749\n",
      "1791\n",
      "1777\n"
     ]
    }
   ],
   "source": [
    "for t in reg_f.estimators_:\n",
    "    print(t.tree_.node_count)"
   ]
  },
  {
   "cell_type": "markdown",
   "metadata": {},
   "source": [
    "**According to experience, when the decision tree does not reduce branches and the prediction results on the training set are good, the number of leaves on a tree is often equal to or more than the sample size. The worse the algorithm results, the fewer the number of leaves.**, if the RMSE is very high or the R2 is very low, you can consider using half or 3/4 of the sample size as a reference for the amount of leaves without branch reduction."
   ]
  },
  {
   "cell_type": "code",
   "execution_count": 30,
   "metadata": {},
   "outputs": [
    {
     "data": {
      "text/plain": [
       "[6.5,\n",
       " 346.5,\n",
       " 271.5,\n",
       " 43.5,\n",
       " 84.5,\n",
       " 1.5,\n",
       " 5.5,\n",
       " 1.0,\n",
       " 34.0,\n",
       " -2.0,\n",
       " 2.0,\n",
       " -2.0,\n",
       " 2.0,\n",
       " -2.0,\n",
       " -2.0,\n",
       " 102.5,\n",
       " -2.0,\n",
       " 0.5,\n",
       " -2.0,\n",
       " -2.0]"
      ]
     },
     "execution_count": 30,
     "metadata": {},
     "output_type": "execute_result"
    }
   ],
   "source": [
    "#The amount of impurity decrease on each node. If it is -2\n",
    "#it means that the node is a leaf node.\n",
    "reg_f.estimators_[0].tree_.threshold.tolist()[:20]"
   ]
  },
  {
   "cell_type": "code",
   "execution_count": 31,
   "metadata": {},
   "outputs": [
    {
     "data": {
      "text/plain": [
       "-2.0       890\n",
       " 0.5        58\n",
       " 1.0        22\n",
       " 1.5        63\n",
       " 2.0        49\n",
       "          ... \n",
       " 1230.0      1\n",
       " 1234.0      1\n",
       " 1240.5      1\n",
       " 1336.0      1\n",
       " 1364.0      1\n",
       "Name: count, Length: 393, dtype: int64"
      ]
     },
     "execution_count": 31,
     "metadata": {},
     "output_type": "execute_result"
    }
   ],
   "source": [
    "#How to know how many leaves will be cut off\n",
    "#by setting the range of min_impurity_decrease?\n",
    "pd.Series(reg_f.estimators_[0].tree_.threshold).value_counts().sort_index()"
   ]
  },
  {
   "cell_type": "code",
   "execution_count": 32,
   "metadata": {},
   "outputs": [
    {
     "name": "stderr",
     "output_type": "stream",
     "text": [
      "C:\\Users\\25420\\AppData\\Local\\Temp\\ipykernel_31632\\4109650085.py:2: FutureWarning: The behavior of obj[i:j] with a float-dtype index is deprecated. In a future version, this will be treated as positional instead of label-based. For label-based slicing, use obj.loc[i:j] instead\n",
      "  np.cumsum(pd.Series(reg_f.estimators_[0].tree_.threshold).value_counts().sort_index()[1:])\n"
     ]
    },
    {
     "data": {
      "text/plain": [
       "1.0        22\n",
       "1.5        85\n",
       "2.0       134\n",
       "2.5       174\n",
       "3.0       191\n",
       "3.5       226\n",
       "4.0       234\n",
       "4.5       261\n",
       "5.0       267\n",
       "5.5       285\n",
       "6.0       288\n",
       "6.5       293\n",
       "7.0       303\n",
       "7.5       308\n",
       "8.0       315\n",
       "8.5       319\n",
       "9.0       325\n",
       "9.5       327\n",
       "10.0      330\n",
       "10.5      339\n",
       "11.0      343\n",
       "11.5      347\n",
       "12.0      350\n",
       "12.5      354\n",
       "13.0      355\n",
       "13.5      358\n",
       "14.0      361\n",
       "14.5      364\n",
       "15.0      365\n",
       "15.5      366\n",
       "16.0      369\n",
       "17.5      370\n",
       "18.0      371\n",
       "18.5      372\n",
       "19.0      377\n",
       "19.5      379\n",
       "20.0      380\n",
       "20.5      383\n",
       "21.0      385\n",
       "21.5      387\n",
       "22.0      389\n",
       "22.5      390\n",
       "23.5      392\n",
       "24.0      393\n",
       "24.5      395\n",
       "25.0      398\n",
       "25.5      400\n",
       "26.0      401\n",
       "27.5      402\n",
       "28.0      404\n",
       "29.5      406\n",
       "30.0      407\n",
       "31.0      408\n",
       "31.5      411\n",
       "32.0      412\n",
       "32.5      413\n",
       "33.0      416\n",
       "33.5      417\n",
       "34.0      419\n",
       "35.0      420\n",
       "35.5      422\n",
       "36.0      423\n",
       "36.5      425\n",
       "37.0      427\n",
       "38.0      428\n",
       "38.5      429\n",
       "39.0      430\n",
       "40.5      432\n",
       "41.0      433\n",
       "41.5      434\n",
       "42.0      435\n",
       "43.0      437\n",
       "43.5      440\n",
       "44.5      447\n",
       "45.0      448\n",
       "45.5      449\n",
       "46.0      450\n",
       "46.5      451\n",
       "47.0      453\n",
       "47.5      456\n",
       "48.0      458\n",
       "48.5      460\n",
       "49.5      461\n",
       "50.0      462\n",
       "50.5      463\n",
       "51.5      465\n",
       "52.0      467\n",
       "52.5      470\n",
       "54.0      471\n",
       "54.5      474\n",
       "55.0      476\n",
       "55.5      479\n",
       "56.0      481\n",
       "56.5      484\n",
       "57.0      485\n",
       "57.5      487\n",
       "58.0      489\n",
       "58.5      490\n",
       "59.0      493\n",
       "59.5      494\n",
       "61.0      497\n",
       "62.5      498\n",
       "63.0      499\n",
       "63.5      500\n",
       "64.5      501\n",
       "65.0      503\n",
       "65.5      504\n",
       "67.0      506\n",
       "67.5      508\n",
       "68.0      509\n",
       "68.5      513\n",
       "69.5      514\n",
       "70.5      516\n",
       "72.0      519\n",
       "72.5      520\n",
       "73.0      522\n",
       "74.0      523\n",
       "75.5      524\n",
       "76.5      526\n",
       "78.5      528\n",
       "79.0      530\n",
       "80.0      532\n",
       "82.0      533\n",
       "82.5      535\n",
       "83.0      536\n",
       "84.5      537\n",
       "85.0      538\n",
       "86.0      539\n",
       "86.5      541\n",
       "87.0      542\n",
       "88.0      543\n",
       "90.5      545\n",
       "91.5      546\n",
       "93.5      548\n",
       "95.5      549\n",
       "96.5      551\n",
       "97.0      553\n",
       "98.5      554\n",
       "99.5      555\n",
       "100.0     556\n",
       "101.0     558\n",
       "101.5     561\n",
       "102.5     562\n",
       "103.0     563\n",
       "104.5     565\n",
       "105.0     566\n",
       "106.0     568\n",
       "107.0     569\n",
       "107.5     570\n",
       "108.0     571\n",
       "109.0     574\n",
       "110.0     575\n",
       "113.0     576\n",
       "121.0     578\n",
       "122.0     579\n",
       "123.0     580\n",
       "124.5     581\n",
       "126.5     582\n",
       "129.0     584\n",
       "131.5     585\n",
       "133.5     586\n",
       "134.5     587\n",
       "136.0     588\n",
       "137.5     589\n",
       "145.0     590\n",
       "145.5     591\n",
       "146.5     592\n",
       "151.5     593\n",
       "152.0     594\n",
       "153.0     597\n",
       "153.5     598\n",
       "159.5     600\n",
       "166.0     601\n",
       "167.5     602\n",
       "170.0     603\n",
       "172.5     604\n",
       "174.0     605\n",
       "177.0     606\n",
       "179.5     607\n",
       "180.0     608\n",
       "181.0     609\n",
       "181.5     610\n",
       "182.0     611\n",
       "185.5     612\n",
       "186.5     613\n",
       "189.0     614\n",
       "190.0     615\n",
       "192.0     616\n",
       "193.5     617\n",
       "197.0     618\n",
       "199.5     619\n",
       "203.0     620\n",
       "205.0     621\n",
       "206.5     622\n",
       "208.0     623\n",
       "209.0     624\n",
       "213.0     626\n",
       "214.5     627\n",
       "216.5     628\n",
       "217.0     629\n",
       "221.0     630\n",
       "222.0     632\n",
       "223.0     633\n",
       "223.5     635\n",
       "228.0     636\n",
       "230.0     637\n",
       "230.5     638\n",
       "231.5     639\n",
       "233.0     640\n",
       "235.0     641\n",
       "237.0     642\n",
       "239.0     644\n",
       "244.0     645\n",
       "245.5     646\n",
       "253.5     647\n",
       "254.0     649\n",
       "259.5     650\n",
       "261.0     651\n",
       "263.0     652\n",
       "270.5     653\n",
       "271.5     656\n",
       "273.5     657\n",
       "274.5     658\n",
       "278.5     659\n",
       "279.0     660\n",
       "279.5     662\n",
       "283.0     663\n",
       "285.0     664\n",
       "285.5     665\n",
       "287.0     666\n",
       "287.5     667\n",
       "290.5     668\n",
       "291.5     669\n",
       "292.5     670\n",
       "296.5     671\n",
       "297.5     672\n",
       "300.5     673\n",
       "301.0     674\n",
       "304.5     675\n",
       "305.5     676\n",
       "307.0     677\n",
       "312.5     678\n",
       "313.5     679\n",
       "314.5     680\n",
       "315.0     681\n",
       "316.0     682\n",
       "319.0     683\n",
       "327.5     684\n",
       "329.0     685\n",
       "330.5     686\n",
       "334.0     687\n",
       "335.5     688\n",
       "339.0     689\n",
       "341.5     690\n",
       "342.5     691\n",
       "344.0     693\n",
       "344.5     694\n",
       "346.5     696\n",
       "349.5     697\n",
       "353.5     698\n",
       "356.5     699\n",
       "368.5     700\n",
       "369.5     701\n",
       "374.0     702\n",
       "374.5     703\n",
       "375.5     704\n",
       "376.5     705\n",
       "380.0     706\n",
       "384.0     707\n",
       "387.5     708\n",
       "388.0     709\n",
       "388.5     710\n",
       "390.0     711\n",
       "390.5     712\n",
       "393.0     713\n",
       "394.0     714\n",
       "400.5     715\n",
       "401.5     716\n",
       "410.0     717\n",
       "411.5     718\n",
       "412.0     719\n",
       "418.0     720\n",
       "420.0     721\n",
       "430.5     722\n",
       "440.0     723\n",
       "444.0     724\n",
       "448.0     725\n",
       "449.5     726\n",
       "450.5     727\n",
       "452.5     728\n",
       "455.5     729\n",
       "457.0     730\n",
       "462.0     731\n",
       "473.5     732\n",
       "478.0     733\n",
       "480.5     734\n",
       "481.5     735\n",
       "486.0     736\n",
       "490.0     737\n",
       "492.0     738\n",
       "493.5     739\n",
       "499.5     741\n",
       "500.5     742\n",
       "505.0     743\n",
       "505.5     744\n",
       "506.5     745\n",
       "507.5     746\n",
       "508.5     747\n",
       "511.5     748\n",
       "514.5     749\n",
       "521.0     750\n",
       "522.0     751\n",
       "523.5     752\n",
       "525.5     753\n",
       "529.0     754\n",
       "535.5     755\n",
       "538.5     756\n",
       "539.0     757\n",
       "543.5     758\n",
       "546.0     759\n",
       "552.5     760\n",
       "556.0     761\n",
       "557.0     762\n",
       "564.5     763\n",
       "568.0     764\n",
       "570.5     765\n",
       "572.0     766\n",
       "578.5     767\n",
       "580.0     769\n",
       "581.0     770\n",
       "591.0     771\n",
       "595.5     772\n",
       "607.0     773\n",
       "615.0     774\n",
       "622.0     775\n",
       "637.5     776\n",
       "639.5     777\n",
       "640.0     778\n",
       "643.5     779\n",
       "645.0     780\n",
       "651.5     781\n",
       "652.0     782\n",
       "654.5     783\n",
       "671.0     784\n",
       "671.5     785\n",
       "678.0     786\n",
       "686.0     787\n",
       "688.5     788\n",
       "690.5     789\n",
       "696.0     790\n",
       "699.0     791\n",
       "701.0     792\n",
       "701.5     793\n",
       "702.0     794\n",
       "705.5     795\n",
       "708.5     796\n",
       "712.5     797\n",
       "716.5     798\n",
       "721.5     799\n",
       "727.5     800\n",
       "736.0     801\n",
       "737.0     802\n",
       "757.5     803\n",
       "764.5     804\n",
       "773.0     805\n",
       "799.5     806\n",
       "816.5     807\n",
       "833.0     808\n",
       "837.5     809\n",
       "843.5     810\n",
       "855.0     811\n",
       "893.0     812\n",
       "896.5     813\n",
       "899.0     814\n",
       "930.5     815\n",
       "944.5     816\n",
       "972.5     817\n",
       "975.5     818\n",
       "1008.0    819\n",
       "1023.5    820\n",
       "1086.5    821\n",
       "1109.0    822\n",
       "1115.0    823\n",
       "1149.0    824\n",
       "1157.0    825\n",
       "1207.5    826\n",
       "1230.0    827\n",
       "1234.0    828\n",
       "1240.5    829\n",
       "1336.0    830\n",
       "1364.0    831\n",
       "Name: count, dtype: int64"
      ]
     },
     "execution_count": 32,
     "metadata": {},
     "output_type": "execute_result"
    }
   ],
   "source": [
    "pd.set_option(\"display.max_rows\",None)\n",
    "np.cumsum(pd.Series(reg_f.estimators_[0].tree_.threshold).value_counts().sort_index()[1:])"
   ]
  },
  {
   "cell_type": "code",
   "execution_count": 33,
   "metadata": {},
   "outputs": [
    {
     "data": {
      "text/plain": [
       "array([  0, 854, 322, 146,  82,  59,  45,  31,  22,  17], dtype=int64)"
      ]
     },
     "execution_count": 33,
     "metadata": {},
     "output_type": "execute_result"
    }
   ],
   "source": [
    "#How to set the range of \n",
    "#min_sample_split so that many leaves will be cut off?\n",
    "np.bincount(reg_f.estimators_[0].tree_.n_node_samples.tolist())[:10]"
   ]
  },
  {
   "cell_type": "code",
   "execution_count": 34,
   "metadata": {},
   "outputs": [
    {
     "name": "stdout",
     "output_type": "stream",
     "text": [
      "Help on class Tree in module sklearn.tree._tree:\n",
      "\n",
      "class Tree(builtins.object)\n",
      " |  Array-based representation of a binary decision tree.\n",
      " |  \n",
      " |  The binary tree is represented as a number of parallel arrays. The i-th\n",
      " |  element of each array holds information about the node `i`. Node 0 is the\n",
      " |  tree's root. You can find a detailed description of all arrays in\n",
      " |  `_tree.pxd`. NOTE: Some of the arrays only apply to either leaves or split\n",
      " |  nodes, resp. In this case the values of nodes of the other type are\n",
      " |  arbitrary!\n",
      " |  \n",
      " |  Attributes\n",
      " |  ----------\n",
      " |  node_count : int\n",
      " |      The number of nodes (internal nodes + leaves) in the tree.\n",
      " |  \n",
      " |  capacity : int\n",
      " |      The current capacity (i.e., size) of the arrays, which is at least as\n",
      " |      great as `node_count`.\n",
      " |  \n",
      " |  max_depth : int\n",
      " |      The depth of the tree, i.e. the maximum depth of its leaves.\n",
      " |  \n",
      " |  children_left : array of int, shape [node_count]\n",
      " |      children_left[i] holds the node id of the left child of node i.\n",
      " |      For leaves, children_left[i] == TREE_LEAF. Otherwise,\n",
      " |      children_left[i] > i. This child handles the case where\n",
      " |      X[:, feature[i]] <= threshold[i].\n",
      " |  \n",
      " |  children_right : array of int, shape [node_count]\n",
      " |      children_right[i] holds the node id of the right child of node i.\n",
      " |      For leaves, children_right[i] == TREE_LEAF. Otherwise,\n",
      " |      children_right[i] > i. This child handles the case where\n",
      " |      X[:, feature[i]] > threshold[i].\n",
      " |  \n",
      " |  feature : array of int, shape [node_count]\n",
      " |      feature[i] holds the feature to split on, for the internal node i.\n",
      " |  \n",
      " |  threshold : array of double, shape [node_count]\n",
      " |      threshold[i] holds the threshold for the internal node i.\n",
      " |  \n",
      " |  value : array of double, shape [node_count, n_outputs, max_n_classes]\n",
      " |      Contains the constant prediction value of each node.\n",
      " |  \n",
      " |  impurity : array of double, shape [node_count]\n",
      " |      impurity[i] holds the impurity (i.e., the value of the splitting\n",
      " |      criterion) at node i.\n",
      " |  \n",
      " |  n_node_samples : array of int, shape [node_count]\n",
      " |      n_node_samples[i] holds the number of training samples reaching node i.\n",
      " |  \n",
      " |  weighted_n_node_samples : array of double, shape [node_count]\n",
      " |      weighted_n_node_samples[i] holds the weighted number of training samples\n",
      " |      reaching node i.\n",
      " |  \n",
      " |  Methods defined here:\n",
      " |  \n",
      " |  __getstate__(...)\n",
      " |      Getstate re-implementation, for pickling.\n",
      " |  \n",
      " |  __reduce__(...)\n",
      " |      Reduce re-implementation, for pickling.\n",
      " |  \n",
      " |  __setstate__(...)\n",
      " |      Setstate re-implementation, for unpickling.\n",
      " |  \n",
      " |  apply(...)\n",
      " |      Finds the terminal region (=leaf node) for each sample in X.\n",
      " |  \n",
      " |  compute_feature_importances(...)\n",
      " |      Computes the importance of each feature (aka variable).\n",
      " |  \n",
      " |  compute_node_depths(...)\n",
      " |      Compute the depth of each node in a tree.\n",
      " |      \n",
      " |      .. versionadded:: 1.3\n",
      " |      \n",
      " |      Returns\n",
      " |      -------\n",
      " |      depths : ndarray of shape (self.node_count,), dtype=np.int64\n",
      " |          The depth of each node in the tree.\n",
      " |  \n",
      " |  compute_partial_dependence(...)\n",
      " |      Partial dependence of the response on the ``target_feature`` set.\n",
      " |      \n",
      " |      For each sample in ``X`` a tree traversal is performed.\n",
      " |      Each traversal starts from the root with weight 1.0.\n",
      " |      \n",
      " |      At each non-leaf node that splits on a target feature, either\n",
      " |      the left child or the right child is visited based on the feature\n",
      " |      value of the current sample, and the weight is not modified.\n",
      " |      At each non-leaf node that splits on a complementary feature,\n",
      " |      both children are visited and the weight is multiplied by the fraction\n",
      " |      of training samples which went to each child.\n",
      " |      \n",
      " |      At each leaf, the value of the node is multiplied by the current\n",
      " |      weight (weights sum to 1 for all visited terminal nodes).\n",
      " |      \n",
      " |      Parameters\n",
      " |      ----------\n",
      " |      X : view on 2d ndarray, shape (n_samples, n_target_features)\n",
      " |          The grid points on which the partial dependence should be\n",
      " |          evaluated.\n",
      " |      target_features : view on 1d ndarray, shape (n_target_features)\n",
      " |          The set of target features for which the partial dependence\n",
      " |          should be evaluated.\n",
      " |      out : view on 1d ndarray, shape (n_samples)\n",
      " |          The value of the partial dependence function on each grid\n",
      " |          point.\n",
      " |  \n",
      " |  decision_path(...)\n",
      " |      Finds the decision path (=node) for each sample in X.\n",
      " |  \n",
      " |  predict(...)\n",
      " |      Predict target for X.\n",
      " |  \n",
      " |  ----------------------------------------------------------------------\n",
      " |  Static methods defined here:\n",
      " |  \n",
      " |  __new__(*args, **kwargs) from builtins.type\n",
      " |      Create and return a new object.  See help(type) for accurate signature.\n",
      " |  \n",
      " |  ----------------------------------------------------------------------\n",
      " |  Data descriptors defined here:\n",
      " |  \n",
      " |  capacity\n",
      " |  \n",
      " |  children_left\n",
      " |  \n",
      " |  children_right\n",
      " |  \n",
      " |  feature\n",
      " |  \n",
      " |  impurity\n",
      " |  \n",
      " |  max_depth\n",
      " |  \n",
      " |  max_n_classes\n",
      " |  \n",
      " |  missing_go_to_left\n",
      " |  \n",
      " |  n_classes\n",
      " |  \n",
      " |  n_features\n",
      " |  \n",
      " |  n_leaves\n",
      " |  \n",
      " |  n_node_samples\n",
      " |  \n",
      " |  n_outputs\n",
      " |  \n",
      " |  node_count\n",
      " |  \n",
      " |  threshold\n",
      " |  \n",
      " |  value\n",
      " |  \n",
      " |  weighted_n_node_samples\n",
      " |  \n",
      " |  ----------------------------------------------------------------------\n",
      " |  Data and other attributes defined here:\n",
      " |  \n",
      " |  __pyx_vtable__ = <capsule object NULL>\n",
      "\n"
     ]
    },
    {
     "data": {
      "text/plain": [
       "(type, None)"
      ]
     },
     "execution_count": 34,
     "metadata": {},
     "output_type": "execute_result"
    }
   ],
   "source": [
    "from sklearn.tree._tree import Tree\n",
    "type(Tree),help(Tree)"
   ]
  },
  {
   "cell_type": "markdown",
   "metadata": {},
   "source": [
    "- Use grid search to tune parameters on random forests"
   ]
  },
  {
   "cell_type": "markdown",
   "metadata": {},
   "source": [
    "|Influence|Parameters|\n",
    "|:-:|:-:|\n",
    "|⭐⭐⭐⭐⭐<br>Almost always hugely influential|n_estimators (overall learning ability)<br>max_depth (rough pruning)<br>max_features (randomness)<br>|\n",
    "|⭐⭐⭐⭐<br>Influential most of the time|max_samples (randomness)<br>class_weight (sample balance)|\n",
    "|⭐⭐<br>May have great influence<br>Most of the time the influence is not obvious|min_samples_split (fine pruning)<br>min_impurity_decrease (fine pruning)<br>max_leaf_nodes (fine pruning)<br>criterion (branch sensitivity) |\n",
    "|⭐<br>When the amount of data is large enough, there is almost no impact|random_state<br>ccp_alpha (structural risk)|"
   ]
  },
  {
   "cell_type": "markdown",
   "metadata": {},
   "source": [
    "model is over-fitting and needs to resist over-fitting, and the overall data volume is not very large, so the proportion of random sampling should not be reduced, so we select the following five parameters for search: `n_estimators`, `max_depth`, `max_features`, `min_impurity_decrease`, `criterion`."
   ]
  },
  {
   "cell_type": "code",
   "execution_count": 35,
   "metadata": {},
   "outputs": [],
   "source": [
    "import numpy as np\n",
    "import pandas as pd\n",
    "import sklearn\n",
    "import matplotlib as mlp\n",
    "import matplotlib.pyplot as plt\n",
    "import time \n",
    "from sklearn.ensemble import RandomForestRegressor as RFR\n",
    "from sklearn.model_selection import cross_validate, KFold, GridSearchCV"
   ]
  },
  {
   "cell_type": "code",
   "execution_count": 36,
   "metadata": {},
   "outputs": [],
   "source": [
    "def RMSE(cvresult,key):\n",
    "    return (abs(cvresult[key])**0.5).mean()"
   ]
  },
  {
   "cell_type": "code",
   "execution_count": 37,
   "metadata": {},
   "outputs": [],
   "source": [
    "data = pd.read_csv(r\"D:\\Practice\\Machine Learning\\datasets\\House Price\\train_encode.csv\", index_col=0)"
   ]
  },
  {
   "cell_type": "code",
   "execution_count": 38,
   "metadata": {},
   "outputs": [],
   "source": [
    "X = data.iloc[:,:-1]\n",
    "y = data.iloc[:,-1]"
   ]
  },
  {
   "cell_type": "code",
   "execution_count": 39,
   "metadata": {},
   "outputs": [
    {
     "data": {
      "text/plain": [
       "(1460, 80)"
      ]
     },
     "execution_count": 39,
     "metadata": {},
     "output_type": "execute_result"
    }
   ],
   "source": [
    "X.shape"
   ]
  },
  {
   "cell_type": "code",
   "execution_count": 40,
   "metadata": {},
   "outputs": [
    {
     "data": {
      "text/html": [
       "<div>\n",
       "<style scoped>\n",
       "    .dataframe tbody tr th:only-of-type {\n",
       "        vertical-align: middle;\n",
       "    }\n",
       "\n",
       "    .dataframe tbody tr th {\n",
       "        vertical-align: top;\n",
       "    }\n",
       "\n",
       "    .dataframe thead th {\n",
       "        text-align: right;\n",
       "    }\n",
       "</style>\n",
       "<table border=\"1\" class=\"dataframe\">\n",
       "  <thead>\n",
       "    <tr style=\"text-align: right;\">\n",
       "      <th></th>\n",
       "      <th>Id</th>\n",
       "      <th>住宅类型</th>\n",
       "      <th>住宅区域</th>\n",
       "      <th>街道接触面积(英尺)</th>\n",
       "      <th>住宅面积</th>\n",
       "      <th>街道路面状况</th>\n",
       "      <th>巷子路面状况</th>\n",
       "      <th>住宅形状(大概)</th>\n",
       "      <th>住宅现状</th>\n",
       "      <th>水电气</th>\n",
       "      <th>...</th>\n",
       "      <th>半开放式门廊面积</th>\n",
       "      <th>泳池面积</th>\n",
       "      <th>泳池质量</th>\n",
       "      <th>篱笆质量</th>\n",
       "      <th>其他配置</th>\n",
       "      <th>其他配置的价值</th>\n",
       "      <th>销售月份</th>\n",
       "      <th>销售年份</th>\n",
       "      <th>销售类型</th>\n",
       "      <th>销售状态</th>\n",
       "    </tr>\n",
       "  </thead>\n",
       "  <tbody>\n",
       "    <tr>\n",
       "      <th>0</th>\n",
       "      <td>0.0</td>\n",
       "      <td>5.0</td>\n",
       "      <td>3.0</td>\n",
       "      <td>36.0</td>\n",
       "      <td>327.0</td>\n",
       "      <td>1.0</td>\n",
       "      <td>0.0</td>\n",
       "      <td>3.0</td>\n",
       "      <td>3.0</td>\n",
       "      <td>0.0</td>\n",
       "      <td>...</td>\n",
       "      <td>0.0</td>\n",
       "      <td>0.0</td>\n",
       "      <td>0.0</td>\n",
       "      <td>0.0</td>\n",
       "      <td>0.0</td>\n",
       "      <td>0.0</td>\n",
       "      <td>1.0</td>\n",
       "      <td>2.0</td>\n",
       "      <td>8.0</td>\n",
       "      <td>4.0</td>\n",
       "    </tr>\n",
       "    <tr>\n",
       "      <th>1</th>\n",
       "      <td>1.0</td>\n",
       "      <td>0.0</td>\n",
       "      <td>3.0</td>\n",
       "      <td>51.0</td>\n",
       "      <td>498.0</td>\n",
       "      <td>1.0</td>\n",
       "      <td>0.0</td>\n",
       "      <td>3.0</td>\n",
       "      <td>3.0</td>\n",
       "      <td>0.0</td>\n",
       "      <td>...</td>\n",
       "      <td>0.0</td>\n",
       "      <td>0.0</td>\n",
       "      <td>0.0</td>\n",
       "      <td>0.0</td>\n",
       "      <td>0.0</td>\n",
       "      <td>0.0</td>\n",
       "      <td>4.0</td>\n",
       "      <td>1.0</td>\n",
       "      <td>8.0</td>\n",
       "      <td>4.0</td>\n",
       "    </tr>\n",
       "    <tr>\n",
       "      <th>2</th>\n",
       "      <td>2.0</td>\n",
       "      <td>5.0</td>\n",
       "      <td>3.0</td>\n",
       "      <td>39.0</td>\n",
       "      <td>702.0</td>\n",
       "      <td>1.0</td>\n",
       "      <td>0.0</td>\n",
       "      <td>0.0</td>\n",
       "      <td>3.0</td>\n",
       "      <td>0.0</td>\n",
       "      <td>...</td>\n",
       "      <td>0.0</td>\n",
       "      <td>0.0</td>\n",
       "      <td>0.0</td>\n",
       "      <td>0.0</td>\n",
       "      <td>0.0</td>\n",
       "      <td>0.0</td>\n",
       "      <td>8.0</td>\n",
       "      <td>2.0</td>\n",
       "      <td>8.0</td>\n",
       "      <td>4.0</td>\n",
       "    </tr>\n",
       "    <tr>\n",
       "      <th>3</th>\n",
       "      <td>3.0</td>\n",
       "      <td>6.0</td>\n",
       "      <td>3.0</td>\n",
       "      <td>31.0</td>\n",
       "      <td>489.0</td>\n",
       "      <td>1.0</td>\n",
       "      <td>0.0</td>\n",
       "      <td>0.0</td>\n",
       "      <td>3.0</td>\n",
       "      <td>0.0</td>\n",
       "      <td>...</td>\n",
       "      <td>0.0</td>\n",
       "      <td>0.0</td>\n",
       "      <td>0.0</td>\n",
       "      <td>0.0</td>\n",
       "      <td>0.0</td>\n",
       "      <td>0.0</td>\n",
       "      <td>1.0</td>\n",
       "      <td>0.0</td>\n",
       "      <td>8.0</td>\n",
       "      <td>0.0</td>\n",
       "    </tr>\n",
       "    <tr>\n",
       "      <th>4</th>\n",
       "      <td>4.0</td>\n",
       "      <td>5.0</td>\n",
       "      <td>3.0</td>\n",
       "      <td>55.0</td>\n",
       "      <td>925.0</td>\n",
       "      <td>1.0</td>\n",
       "      <td>0.0</td>\n",
       "      <td>0.0</td>\n",
       "      <td>3.0</td>\n",
       "      <td>0.0</td>\n",
       "      <td>...</td>\n",
       "      <td>0.0</td>\n",
       "      <td>0.0</td>\n",
       "      <td>0.0</td>\n",
       "      <td>0.0</td>\n",
       "      <td>0.0</td>\n",
       "      <td>0.0</td>\n",
       "      <td>11.0</td>\n",
       "      <td>2.0</td>\n",
       "      <td>8.0</td>\n",
       "      <td>4.0</td>\n",
       "    </tr>\n",
       "  </tbody>\n",
       "</table>\n",
       "<p>5 rows × 80 columns</p>\n",
       "</div>"
      ],
      "text/plain": [
       "    Id  住宅类型  住宅区域  街道接触面积(英尺)   住宅面积  街道路面状况  巷子路面状况  住宅形状(大概)  住宅现状  水电气  \\\n",
       "0  0.0   5.0   3.0        36.0  327.0     1.0     0.0       3.0   3.0  0.0   \n",
       "1  1.0   0.0   3.0        51.0  498.0     1.0     0.0       3.0   3.0  0.0   \n",
       "2  2.0   5.0   3.0        39.0  702.0     1.0     0.0       0.0   3.0  0.0   \n",
       "3  3.0   6.0   3.0        31.0  489.0     1.0     0.0       0.0   3.0  0.0   \n",
       "4  4.0   5.0   3.0        55.0  925.0     1.0     0.0       0.0   3.0  0.0   \n",
       "\n",
       "   ...  半开放式门廊面积  泳池面积  泳池质量  篱笆质量  其他配置  其他配置的价值  销售月份  销售年份  销售类型  销售状态  \n",
       "0  ...       0.0   0.0   0.0   0.0   0.0      0.0   1.0   2.0   8.0   4.0  \n",
       "1  ...       0.0   0.0   0.0   0.0   0.0      0.0   4.0   1.0   8.0   4.0  \n",
       "2  ...       0.0   0.0   0.0   0.0   0.0      0.0   8.0   2.0   8.0   4.0  \n",
       "3  ...       0.0   0.0   0.0   0.0   0.0      0.0   1.0   0.0   8.0   0.0  \n",
       "4  ...       0.0   0.0   0.0   0.0   0.0      0.0  11.0   2.0   8.0   4.0  \n",
       "\n",
       "[5 rows x 80 columns]"
      ]
     },
     "execution_count": 40,
     "metadata": {},
     "output_type": "execute_result"
    }
   ],
   "source": [
    "X.head()"
   ]
  },
  {
   "cell_type": "code",
   "execution_count": 41,
   "metadata": {},
   "outputs": [
    {
     "name": "stderr",
     "output_type": "stream",
     "text": [
      "[Parallel(n_jobs=-1)]: Using backend LokyBackend with 12 concurrent workers.\n",
      "[Parallel(n_jobs=-1)]: Done   5 out of   5 | elapsed:   21.5s finished\n"
     ]
    }
   ],
   "source": [
    "#Bench mark\n",
    "reg = RFR(random_state=1412)\n",
    "cv = KFold(n_splits=5,shuffle=True,random_state=21)\n",
    "\n",
    "result_pre_adjusted = cross_validate(reg,X,y,cv=cv,scoring=\"neg_mean_squared_error\"\n",
    "                          ,return_train_score=True\n",
    "                          ,verbose=True\n",
    "                          ,n_jobs=-1)"
   ]
  },
  {
   "cell_type": "code",
   "execution_count": 42,
   "metadata": {},
   "outputs": [
    {
     "data": {
      "text/plain": [
       "11300.9841664023"
      ]
     },
     "execution_count": 42,
     "metadata": {},
     "output_type": "execute_result"
    }
   ],
   "source": [
    "RMSE(result_pre_adjusted,\"train_score\")"
   ]
  },
  {
   "cell_type": "code",
   "execution_count": 43,
   "metadata": {},
   "outputs": [
    {
     "data": {
      "text/plain": [
       "29390.160558196938"
      ]
     },
     "execution_count": 43,
     "metadata": {},
     "output_type": "execute_result"
    }
   ],
   "source": [
    "RMSE(result_pre_adjusted,\"test_score\")"
   ]
  },
  {
   "cell_type": "code",
   "execution_count": null,
   "metadata": {},
   "outputs": [],
   "source": [
    "param_grid_simple = {\"criterion\": [\"squared_error\",\"poisson\"]\n",
    "                     , 'n_estimators': [*range(20,100,5)]\n",
    "                     , 'max_depth': [*range(10,25,2)]\n",
    "                     , \"max_features\": [\"log2\",\"sqrt\",16,32,64,\"auto\"]\n",
    "                     , \"min_impurity_decrease\": [*np.arange(0,5,10)]\n",
    "                    }"
   ]
  },
  {
   "cell_type": "code",
   "execution_count": null,
   "metadata": {},
   "outputs": [],
   "source": [
    "#n_jobs=8,verbose=True\n",
    "reg = RFR(random_state=1412,verbose=True,n_jobs=-1)\n",
    "cv = KFold(n_splits=5,shuffle=True,random_state=1412)\n",
    "search = GridSearchCV(estimator=reg\n",
    "                     ,param_grid=param_grid_simple\n",
    "                     ,scoring = \"neg_mean_squared_error\"\n",
    "                     ,verbose = True\n",
    "                     ,cv = cv\n",
    "                     ,n_jobs=-1)"
   ]
  },
  {
   "cell_type": "code",
   "execution_count": null,
   "metadata": {},
   "outputs": [],
   "source": [
    "start = time.time()\n",
    "search.fit(X,y)\n",
    "print(time.time() - start)"
   ]
  },
  {
   "cell_type": "code",
   "execution_count": null,
   "metadata": {},
   "outputs": [],
   "source": [
    "search.best_estimator_"
   ]
  },
  {
   "cell_type": "markdown",
   "metadata": {},
   "source": [
    "---"
   ]
  },
  {
   "cell_type": "markdown",
   "metadata": {},
   "source": [
    "- ### Incremental learning <br>of random forest on huge amounts of data"
   ]
  },
  {
   "cell_type": "markdown",
   "metadata": {},
   "source": [
    "- deneral"
   ]
  },
  {
   "cell_type": "code",
   "execution_count": 44,
   "metadata": {},
   "outputs": [],
   "source": [
    "from sklearn.datasets import fetch_california_housing\n",
    "from sklearn.metrics import mean_squared_error"
   ]
  },
  {
   "cell_type": "code",
   "execution_count": 45,
   "metadata": {},
   "outputs": [],
   "source": [
    "X_fc = fetch_california_housing().data\n",
    "y_fc = fetch_california_housing().target"
   ]
  },
  {
   "cell_type": "code",
   "execution_count": 46,
   "metadata": {},
   "outputs": [
    {
     "data": {
      "text/plain": [
       "(20640, 8)"
      ]
     },
     "execution_count": 46,
     "metadata": {},
     "output_type": "execute_result"
    }
   ],
   "source": [
    "X_fc.shape"
   ]
  },
  {
   "cell_type": "code",
   "execution_count": 50,
   "metadata": {},
   "outputs": [],
   "source": [
    "model = RFR(n_estimators=3, warm_start=False) # no incremental learning\n",
    "model1 = model.fit(X_fc, y_fc)"
   ]
  },
  {
   "cell_type": "code",
   "execution_count": 51,
   "metadata": {},
   "outputs": [
    {
     "data": {
      "text/plain": [
       "0.2962129293073116"
      ]
     },
     "execution_count": 51,
     "metadata": {},
     "output_type": "execute_result"
    }
   ],
   "source": [
    "#RMSE\n",
    "(mean_squared_error(y_fc, model.predict(X_fc)))**0.5"
   ]
  },
  {
   "cell_type": "code",
   "execution_count": 53,
   "metadata": {},
   "outputs": [
    {
     "data": {
      "text/plain": [
       "(DecisionTreeRegressor(),\n",
       " [DecisionTreeRegressor(max_features=1.0, random_state=997676964),\n",
       "  DecisionTreeRegressor(max_features=1.0, random_state=1841328192),\n",
       "  DecisionTreeRegressor(max_features=1.0, random_state=80703818)])"
      ]
     },
     "execution_count": 53,
     "metadata": {},
     "output_type": "execute_result"
    }
   ],
   "source": [
    "model1.estimator_, model1.estimators_"
   ]
  },
  {
   "cell_type": "code",
   "execution_count": 55,
   "metadata": {},
   "outputs": [
    {
     "data": {
      "text/plain": [
       "[DecisionTreeRegressor(max_features=1.0, random_state=1135758142),\n",
       " DecisionTreeRegressor(max_features=1.0, random_state=265323579),\n",
       " DecisionTreeRegressor(max_features=1.0, random_state=621046299)]"
      ]
     },
     "execution_count": 55,
     "metadata": {},
     "output_type": "execute_result"
    }
   ],
   "source": [
    "model1 = model1.fit(X.iloc[:,:8],y)\n",
    "model1.estimators_"
   ]
  },
  {
   "cell_type": "code",
   "execution_count": 56,
   "metadata": {},
   "outputs": [
    {
     "name": "stderr",
     "output_type": "stream",
     "text": [
      "d:\\CODE\\Lib\\site-packages\\sklearn\\base.py:464: UserWarning: X does not have valid feature names, but RandomForestRegressor was fitted with feature names\n",
      "  warnings.warn(\n"
     ]
    },
    {
     "data": {
      "text/plain": [
       "204542.70586041128"
      ]
     },
     "execution_count": 56,
     "metadata": {},
     "output_type": "execute_result"
    }
   ],
   "source": [
    "#RMSE with new tree\n",
    "(mean_squared_error(y_fc,model1.predict(X_fc)))**0.5"
   ]
  },
  {
   "cell_type": "code",
   "execution_count": 57,
   "metadata": {},
   "outputs": [],
   "source": [
    "model = RFR(n_estimators=3, warm_start=True) #with incremental learning"
   ]
  },
  {
   "cell_type": "code",
   "execution_count": 58,
   "metadata": {},
   "outputs": [],
   "source": [
    "model2 = model.fit(X_fc, y_fc)"
   ]
  },
  {
   "cell_type": "code",
   "execution_count": 59,
   "metadata": {},
   "outputs": [
    {
     "data": {
      "text/plain": [
       "0.29949356129637145"
      ]
     },
     "execution_count": 59,
     "metadata": {},
     "output_type": "execute_result"
    }
   ],
   "source": [
    "(mean_squared_error(y_fc,model2.predict(X_fc)))**0.5"
   ]
  },
  {
   "cell_type": "code",
   "execution_count": 60,
   "metadata": {},
   "outputs": [
    {
     "data": {
      "text/plain": [
       "[DecisionTreeRegressor(max_features=1.0, random_state=1559698670),\n",
       " DecisionTreeRegressor(max_features=1.0, random_state=2056320228),\n",
       " DecisionTreeRegressor(max_features=1.0, random_state=79787785)]"
      ]
     },
     "execution_count": 60,
     "metadata": {},
     "output_type": "execute_result"
    }
   ],
   "source": [
    "model2.estimators_"
   ]
  },
  {
   "cell_type": "code",
   "execution_count": 61,
   "metadata": {},
   "outputs": [
    {
     "name": "stderr",
     "output_type": "stream",
     "text": [
      "d:\\CODE\\Lib\\site-packages\\sklearn\\ensemble\\_forest.py:435: UserWarning: Warm-start fitting without increasing n_estimators does not fit new trees.\n",
      "  warn(\n"
     ]
    }
   ],
   "source": [
    "model2 = model2.fit(X.iloc[:,:8],y)"
   ]
  },
  {
   "cell_type": "code",
   "execution_count": 62,
   "metadata": {},
   "outputs": [
    {
     "name": "stderr",
     "output_type": "stream",
     "text": [
      "d:\\CODE\\Lib\\site-packages\\sklearn\\base.py:464: UserWarning: X does not have valid feature names, but RandomForestRegressor was fitted with feature names\n",
      "  warnings.warn(\n"
     ]
    },
    {
     "data": {
      "text/plain": [
       "0.29949356129637145"
      ]
     },
     "execution_count": 62,
     "metadata": {},
     "output_type": "execute_result"
    }
   ],
   "source": [
    "(mean_squared_error(y_fc,model2.predict(X_fc)))**0.5"
   ]
  },
  {
   "cell_type": "code",
   "execution_count": 63,
   "metadata": {},
   "outputs": [
    {
     "data": {
      "text/plain": [
       "[DecisionTreeRegressor(max_features=1.0, random_state=1559698670),\n",
       " DecisionTreeRegressor(max_features=1.0, random_state=2056320228),\n",
       " DecisionTreeRegressor(max_features=1.0, random_state=79787785)]"
      ]
     },
     "execution_count": 63,
     "metadata": {},
     "output_type": "execute_result"
    }
   ],
   "source": [
    "model2.estimators_ # same trees"
   ]
  },
  {
   "cell_type": "code",
   "execution_count": 64,
   "metadata": {},
   "outputs": [],
   "source": [
    "model2.n_estimators += 2"
   ]
  },
  {
   "cell_type": "code",
   "execution_count": 65,
   "metadata": {},
   "outputs": [
    {
     "data": {
      "text/html": [
       "<style>#sk-container-id-2 {color: black;}#sk-container-id-2 pre{padding: 0;}#sk-container-id-2 div.sk-toggleable {background-color: white;}#sk-container-id-2 label.sk-toggleable__label {cursor: pointer;display: block;width: 100%;margin-bottom: 0;padding: 0.3em;box-sizing: border-box;text-align: center;}#sk-container-id-2 label.sk-toggleable__label-arrow:before {content: \"▸\";float: left;margin-right: 0.25em;color: #696969;}#sk-container-id-2 label.sk-toggleable__label-arrow:hover:before {color: black;}#sk-container-id-2 div.sk-estimator:hover label.sk-toggleable__label-arrow:before {color: black;}#sk-container-id-2 div.sk-toggleable__content {max-height: 0;max-width: 0;overflow: hidden;text-align: left;background-color: #f0f8ff;}#sk-container-id-2 div.sk-toggleable__content pre {margin: 0.2em;color: black;border-radius: 0.25em;background-color: #f0f8ff;}#sk-container-id-2 input.sk-toggleable__control:checked~div.sk-toggleable__content {max-height: 200px;max-width: 100%;overflow: auto;}#sk-container-id-2 input.sk-toggleable__control:checked~label.sk-toggleable__label-arrow:before {content: \"▾\";}#sk-container-id-2 div.sk-estimator input.sk-toggleable__control:checked~label.sk-toggleable__label {background-color: #d4ebff;}#sk-container-id-2 div.sk-label input.sk-toggleable__control:checked~label.sk-toggleable__label {background-color: #d4ebff;}#sk-container-id-2 input.sk-hidden--visually {border: 0;clip: rect(1px 1px 1px 1px);clip: rect(1px, 1px, 1px, 1px);height: 1px;margin: -1px;overflow: hidden;padding: 0;position: absolute;width: 1px;}#sk-container-id-2 div.sk-estimator {font-family: monospace;background-color: #f0f8ff;border: 1px dotted black;border-radius: 0.25em;box-sizing: border-box;margin-bottom: 0.5em;}#sk-container-id-2 div.sk-estimator:hover {background-color: #d4ebff;}#sk-container-id-2 div.sk-parallel-item::after {content: \"\";width: 100%;border-bottom: 1px solid gray;flex-grow: 1;}#sk-container-id-2 div.sk-label:hover label.sk-toggleable__label {background-color: #d4ebff;}#sk-container-id-2 div.sk-serial::before {content: \"\";position: absolute;border-left: 1px solid gray;box-sizing: border-box;top: 0;bottom: 0;left: 50%;z-index: 0;}#sk-container-id-2 div.sk-serial {display: flex;flex-direction: column;align-items: center;background-color: white;padding-right: 0.2em;padding-left: 0.2em;position: relative;}#sk-container-id-2 div.sk-item {position: relative;z-index: 1;}#sk-container-id-2 div.sk-parallel {display: flex;align-items: stretch;justify-content: center;background-color: white;position: relative;}#sk-container-id-2 div.sk-item::before, #sk-container-id-2 div.sk-parallel-item::before {content: \"\";position: absolute;border-left: 1px solid gray;box-sizing: border-box;top: 0;bottom: 0;left: 50%;z-index: -1;}#sk-container-id-2 div.sk-parallel-item {display: flex;flex-direction: column;z-index: 1;position: relative;background-color: white;}#sk-container-id-2 div.sk-parallel-item:first-child::after {align-self: flex-end;width: 50%;}#sk-container-id-2 div.sk-parallel-item:last-child::after {align-self: flex-start;width: 50%;}#sk-container-id-2 div.sk-parallel-item:only-child::after {width: 0;}#sk-container-id-2 div.sk-dashed-wrapped {border: 1px dashed gray;margin: 0 0.4em 0.5em 0.4em;box-sizing: border-box;padding-bottom: 0.4em;background-color: white;}#sk-container-id-2 div.sk-label label {font-family: monospace;font-weight: bold;display: inline-block;line-height: 1.2em;}#sk-container-id-2 div.sk-label-container {text-align: center;}#sk-container-id-2 div.sk-container {/* jupyter's `normalize.less` sets `[hidden] { display: none; }` but bootstrap.min.css set `[hidden] { display: none !important; }` so we also need the `!important` here to be able to override the default hidden behavior on the sphinx rendered scikit-learn.org. See: https://github.com/scikit-learn/scikit-learn/issues/21755 */display: inline-block !important;position: relative;}#sk-container-id-2 div.sk-text-repr-fallback {display: none;}</style><div id=\"sk-container-id-2\" class=\"sk-top-container\"><div class=\"sk-text-repr-fallback\"><pre>RandomForestRegressor(n_estimators=5, warm_start=True)</pre><b>In a Jupyter environment, please rerun this cell to show the HTML representation or trust the notebook. <br />On GitHub, the HTML representation is unable to render, please try loading this page with nbviewer.org.</b></div><div class=\"sk-container\" hidden><div class=\"sk-item\"><div class=\"sk-estimator sk-toggleable\"><input class=\"sk-toggleable__control sk-hidden--visually\" id=\"sk-estimator-id-2\" type=\"checkbox\" checked><label for=\"sk-estimator-id-2\" class=\"sk-toggleable__label sk-toggleable__label-arrow\">RandomForestRegressor</label><div class=\"sk-toggleable__content\"><pre>RandomForestRegressor(n_estimators=5, warm_start=True)</pre></div></div></div></div></div>"
      ],
      "text/plain": [
       "RandomForestRegressor(n_estimators=5, warm_start=True)"
      ]
     },
     "execution_count": 65,
     "metadata": {},
     "output_type": "execute_result"
    }
   ],
   "source": [
    "model2"
   ]
  },
  {
   "cell_type": "code",
   "execution_count": 66,
   "metadata": {},
   "outputs": [
    {
     "data": {
      "text/html": [
       "<style>#sk-container-id-3 {color: black;}#sk-container-id-3 pre{padding: 0;}#sk-container-id-3 div.sk-toggleable {background-color: white;}#sk-container-id-3 label.sk-toggleable__label {cursor: pointer;display: block;width: 100%;margin-bottom: 0;padding: 0.3em;box-sizing: border-box;text-align: center;}#sk-container-id-3 label.sk-toggleable__label-arrow:before {content: \"▸\";float: left;margin-right: 0.25em;color: #696969;}#sk-container-id-3 label.sk-toggleable__label-arrow:hover:before {color: black;}#sk-container-id-3 div.sk-estimator:hover label.sk-toggleable__label-arrow:before {color: black;}#sk-container-id-3 div.sk-toggleable__content {max-height: 0;max-width: 0;overflow: hidden;text-align: left;background-color: #f0f8ff;}#sk-container-id-3 div.sk-toggleable__content pre {margin: 0.2em;color: black;border-radius: 0.25em;background-color: #f0f8ff;}#sk-container-id-3 input.sk-toggleable__control:checked~div.sk-toggleable__content {max-height: 200px;max-width: 100%;overflow: auto;}#sk-container-id-3 input.sk-toggleable__control:checked~label.sk-toggleable__label-arrow:before {content: \"▾\";}#sk-container-id-3 div.sk-estimator input.sk-toggleable__control:checked~label.sk-toggleable__label {background-color: #d4ebff;}#sk-container-id-3 div.sk-label input.sk-toggleable__control:checked~label.sk-toggleable__label {background-color: #d4ebff;}#sk-container-id-3 input.sk-hidden--visually {border: 0;clip: rect(1px 1px 1px 1px);clip: rect(1px, 1px, 1px, 1px);height: 1px;margin: -1px;overflow: hidden;padding: 0;position: absolute;width: 1px;}#sk-container-id-3 div.sk-estimator {font-family: monospace;background-color: #f0f8ff;border: 1px dotted black;border-radius: 0.25em;box-sizing: border-box;margin-bottom: 0.5em;}#sk-container-id-3 div.sk-estimator:hover {background-color: #d4ebff;}#sk-container-id-3 div.sk-parallel-item::after {content: \"\";width: 100%;border-bottom: 1px solid gray;flex-grow: 1;}#sk-container-id-3 div.sk-label:hover label.sk-toggleable__label {background-color: #d4ebff;}#sk-container-id-3 div.sk-serial::before {content: \"\";position: absolute;border-left: 1px solid gray;box-sizing: border-box;top: 0;bottom: 0;left: 50%;z-index: 0;}#sk-container-id-3 div.sk-serial {display: flex;flex-direction: column;align-items: center;background-color: white;padding-right: 0.2em;padding-left: 0.2em;position: relative;}#sk-container-id-3 div.sk-item {position: relative;z-index: 1;}#sk-container-id-3 div.sk-parallel {display: flex;align-items: stretch;justify-content: center;background-color: white;position: relative;}#sk-container-id-3 div.sk-item::before, #sk-container-id-3 div.sk-parallel-item::before {content: \"\";position: absolute;border-left: 1px solid gray;box-sizing: border-box;top: 0;bottom: 0;left: 50%;z-index: -1;}#sk-container-id-3 div.sk-parallel-item {display: flex;flex-direction: column;z-index: 1;position: relative;background-color: white;}#sk-container-id-3 div.sk-parallel-item:first-child::after {align-self: flex-end;width: 50%;}#sk-container-id-3 div.sk-parallel-item:last-child::after {align-self: flex-start;width: 50%;}#sk-container-id-3 div.sk-parallel-item:only-child::after {width: 0;}#sk-container-id-3 div.sk-dashed-wrapped {border: 1px dashed gray;margin: 0 0.4em 0.5em 0.4em;box-sizing: border-box;padding-bottom: 0.4em;background-color: white;}#sk-container-id-3 div.sk-label label {font-family: monospace;font-weight: bold;display: inline-block;line-height: 1.2em;}#sk-container-id-3 div.sk-label-container {text-align: center;}#sk-container-id-3 div.sk-container {/* jupyter's `normalize.less` sets `[hidden] { display: none; }` but bootstrap.min.css set `[hidden] { display: none !important; }` so we also need the `!important` here to be able to override the default hidden behavior on the sphinx rendered scikit-learn.org. See: https://github.com/scikit-learn/scikit-learn/issues/21755 */display: inline-block !important;position: relative;}#sk-container-id-3 div.sk-text-repr-fallback {display: none;}</style><div id=\"sk-container-id-3\" class=\"sk-top-container\"><div class=\"sk-text-repr-fallback\"><pre>RandomForestRegressor(n_estimators=5, warm_start=True)</pre><b>In a Jupyter environment, please rerun this cell to show the HTML representation or trust the notebook. <br />On GitHub, the HTML representation is unable to render, please try loading this page with nbviewer.org.</b></div><div class=\"sk-container\" hidden><div class=\"sk-item\"><div class=\"sk-estimator sk-toggleable\"><input class=\"sk-toggleable__control sk-hidden--visually\" id=\"sk-estimator-id-3\" type=\"checkbox\" checked><label for=\"sk-estimator-id-3\" class=\"sk-toggleable__label sk-toggleable__label-arrow\">RandomForestRegressor</label><div class=\"sk-toggleable__content\"><pre>RandomForestRegressor(n_estimators=5, warm_start=True)</pre></div></div></div></div></div>"
      ],
      "text/plain": [
       "RandomForestRegressor(n_estimators=5, warm_start=True)"
      ]
     },
     "execution_count": 66,
     "metadata": {},
     "output_type": "execute_result"
    }
   ],
   "source": [
    "model2.fit(X.iloc[:,:8],y)"
   ]
  },
  {
   "cell_type": "code",
   "execution_count": 67,
   "metadata": {},
   "outputs": [
    {
     "data": {
      "text/plain": [
       "[DecisionTreeRegressor(max_features=1.0, random_state=1559698670),\n",
       " DecisionTreeRegressor(max_features=1.0, random_state=2056320228),\n",
       " DecisionTreeRegressor(max_features=1.0, random_state=79787785),\n",
       " DecisionTreeRegressor(max_features=1.0, random_state=1500668715),\n",
       " DecisionTreeRegressor(max_features=1.0, random_state=166345949)]"
      ]
     },
     "execution_count": 67,
     "metadata": {},
     "output_type": "execute_result"
    }
   ],
   "source": [
    "model2.estimators_ #原来的树还是没有变化，新增的树是基于新输入的数据进行训练的"
   ]
  },
  {
   "cell_type": "markdown",
   "metadata": {},
   "source": [
    "---"
   ]
  },
  {
   "cell_type": "markdown",
   "metadata": {},
   "source": [
    "- ### Application of incremental learning on Kaggle data"
   ]
  },
  {
   "cell_type": "markdown",
   "metadata": {},
   "source": [
    "https://www.kaggle.com/tunguz/big-five-personality-test"
   ]
  },
  {
   "cell_type": "code",
   "execution_count": 68,
   "metadata": {},
   "outputs": [],
   "source": [
    "trainpath = r\"D:\\Practice\\Machine Learning\\datasets\\Big data\\bigdata_train.csv\"\n",
    "testpath = r\"D:\\Practice\\Machine Learning\\datasets\\Big data\\bigdata_test.csv\""
   ]
  },
  {
   "cell_type": "markdown",
   "metadata": {},
   "source": [
    "When we decide to use incremental learning, the data should be so huge that it is impossible to directly open and view, impossible to directly train, or even impossible to directly import (for example, more than 20 G). But if we need to circularly import data, we must know the approximate actual amount of data, so we can obtain the amount of data in the csv that cannot be opened in the following ways:\n",
    "\n",
    "- If it is a kaggle data set, we can generally find the corresponding instructions on their webpage\n",
    "- If it is a database data set, statistics can be performed in the database\n",
    "- If you cannot find the corresponding instructions, you can use the deque library to import the last few lines of the csv file and view the index\n",
    "- If the data does not have an index, you can only rely on pandas to try to find the approximate data range."
   ]
  },
  {
   "cell_type": "code",
   "execution_count": 70,
   "metadata": {},
   "outputs": [],
   "source": [
    "from collections import deque \n",
    "from io import StringIO"
   ]
  },
  {
   "cell_type": "code",
   "execution_count": 71,
   "metadata": {},
   "outputs": [],
   "source": [
    "with open(trainpath, 'r') as data:\n",
    "    q = deque(data, 5)"
   ]
  },
  {
   "cell_type": "code",
   "execution_count": 72,
   "metadata": {},
   "outputs": [
    {
     "data": {
      "text/plain": [
       "deque(['995029,3.0,3.0,5.0,5.0,2.0,3.0,2.0,5.0,5.0,5.0,2.0,2.0,4.0,4.0,1.0,1.0,2.0,4.0,4.0,2.0,4.0,3.0,1.0,4.0,1.0,4.0,2.0,4.0,4.0,5.0,4.0,3.0,4.0,3.0,3.0,4.0,4.0,1.0,2.0,5.0,3.0,3.0,3.0,1.0,3.0,4.0,5.0,2.0,5.0,3.0,82719.0,5474.0,7131.0,27265.0,12898.0,18537.0,13712.0,9704.0,9312.0,10824.0,17332.0,25771.0,21437.0,39362.0,29041.0,16015.0,12711.0,12114.0,11141.0,10610.0,34767.0,23585.0,2453.0,23004.0,4677.0,31609.0,11498.0,24396.0,8758.0,11288.0,18892.0,31976.0,5874.0,23840.0,38838.0,13131.0,8298.0,15644.0,7292.0,8649.0,8513.0,18259.0,34832.0,3168.0,3306.0,17459.0,12079.0,9565.0,6310.0,24019.0,291658.0,666.0,469.0,37.0,1954.0,33.0,0.0,41.0,865.0,-70.6503\\n',\n",
       "       '995030,2.0,4.0,4.0,2.0,4.0,2.0,4.0,4.0,4.0,4.0,3.0,2.0,2.0,4.0,2.0,2.0,2.0,2.0,2.0,2.0,1.0,0.0,2.0,4.0,2.0,4.0,1.0,4.0,4.0,4.0,5.0,2.0,5.0,1.0,4.0,1.0,5.0,1.0,5.0,4.0,4.0,1.0,5.0,2.0,5.0,1.0,4.0,0.0,4.0,4.0,5470.0,2913.0,2137.0,2967.0,2060.0,2499.0,4645.0,7550.0,4682.0,5440.0,6976.0,5326.0,1556.0,4765.0,4029.0,2760.0,4450.0,5211.0,1623.0,4274.0,2652.0,14.0,5820.0,4383.0,9358.0,1826.0,4699.0,2441.0,5734.0,5116.0,1797.0,4038.0,2386.0,6465.0,3693.0,3399.0,5281.0,3727.0,1413.0,9482.0,2911.0,3693.0,2766.0,3782.0,1958.0,4180.0,7876.0,14.0,5032.0,2003.0,968800.0,666.0,469.0,6.0,208.0,30.0,0.0,208.0,19838.0,-123.0867\\n',\n",
       "       '995031,2.0,1.0,3.0,2.0,5.0,1.0,5.0,4.0,4.0,3.0,2.0,5.0,3.0,4.0,1.0,1.0,1.0,3.0,2.0,2.0,3.0,4.0,1.0,4.0,3.0,5.0,1.0,3.0,5.0,5.0,4.0,4.0,5.0,2.0,4.0,3.0,4.0,1.0,3.0,4.0,3.0,2.0,4.0,2.0,3.0,2.0,3.0,1.0,4.0,4.0,74490.0,6721.0,19705.0,8894.0,11176.0,27505.0,12282.0,12209.0,7985.0,7434.0,34860.0,9848.0,9200.0,13043.0,995.0,5621.0,3592.0,4657.0,7069.0,5196.0,40330.0,6027.0,6590.0,5617.0,6727.0,14579.0,7065.0,10650.0,1350.0,8252.0,33374.0,7564.0,4720.0,14695.0,15016.0,9359.0,9410.0,53991.0,14756.0,5976.0,31580.0,6783.0,24779.0,41707.0,8803.0,8412.0,4472.0,7805.0,5635.0,5801.0,567037.0,93.0,541.0,596.0,2892.0,1602.0,0.0,144.0,2745.0,112.5\\n',\n",
       "       '995032,1.0,4.0,1.0,5.0,2.0,2.0,1.0,5.0,2.0,4.0,5.0,1.0,4.0,2.0,4.0,4.0,3.0,4.0,5.0,3.0,2.0,2.0,2.0,4.0,2.0,4.0,2.0,4.0,3.0,3.0,4.0,4.0,5.0,2.0,2.0,3.0,3.0,2.0,2.0,3.0,4.0,1.0,3.0,1.0,4.0,1.0,3.0,4.0,4.0,3.0,14075.0,6301.0,3611.0,4143.0,5949.0,4900.0,10292.0,3254.0,3896.0,4297.0,5380.0,8667.0,6565.0,3442.0,4335.0,10107.0,15301.0,6697.0,4305.0,3574.0,44820.0,15434.0,7953.0,6857.0,9700.0,5049.0,6720.0,4937.0,12857.0,6981.0,10642.0,8187.0,3713.0,15412.0,4186.0,7606.0,3064.0,4122.0,3769.0,6718.0,5027.0,6272.0,7023.0,8974.0,8198.0,4774.0,11819.0,8736.0,3880.0,4768.0,989963.0,57.0,441.0,13.0,520.0,29.0,0.0,208.0,10546.0,-97.0\\n',\n",
       "       '995033,3.0,2.0,4.0,3.0,4.0,2.0,4.0,3.0,4.0,3.0,3.0,3.0,4.0,4.0,3.0,3.0,4.0,5.0,3.0,3.0,2.0,5.0,2.0,5.0,2.0,5.0,2.0,4.0,5.0,4.0,3.0,5.0,3.0,3.0,2.0,4.0,3.0,3.0,1.0,4.0,3.0,3.0,5.0,3.0,3.0,2.0,3.0,2.0,4.0,4.0,7811.0,12321.0,728.0,2997.0,5020.0,515.0,10110.0,11314.0,4200.0,3473.0,2808.0,10826.0,7022.0,1590.0,917.0,2999.0,3919.0,661.0,2962.0,7594.0,4430.0,2462.0,7012.0,3126.0,4808.0,3359.0,623.0,5745.0,580.0,4144.0,2358.0,4829.0,735.0,3742.0,6546.0,5603.0,5158.0,6435.0,7207.0,6272.0,2231.0,5253.0,2480.0,18923.0,18792.0,14734.0,7294.0,7964.0,4358.0,4733.0,443675.0,36.0,272.0,3.0,285.0,15.0,0.0,208.0,9322.0,-76.3729\\n'],\n",
       "      maxlen=5)"
      ]
     },
     "execution_count": 72,
     "metadata": {},
     "output_type": "execute_result"
    }
   ],
   "source": [
    "q"
   ]
  },
  {
   "cell_type": "code",
   "execution_count": 73,
   "metadata": {},
   "outputs": [
    {
     "data": {
      "text/html": [
       "<div>\n",
       "<style scoped>\n",
       "    .dataframe tbody tr th:only-of-type {\n",
       "        vertical-align: middle;\n",
       "    }\n",
       "\n",
       "    .dataframe tbody tr th {\n",
       "        vertical-align: top;\n",
       "    }\n",
       "\n",
       "    .dataframe thead th {\n",
       "        text-align: right;\n",
       "    }\n",
       "</style>\n",
       "<table border=\"1\" class=\"dataframe\">\n",
       "  <thead>\n",
       "    <tr style=\"text-align: right;\">\n",
       "      <th></th>\n",
       "      <th>0</th>\n",
       "      <th>1</th>\n",
       "      <th>2</th>\n",
       "      <th>3</th>\n",
       "      <th>4</th>\n",
       "      <th>5</th>\n",
       "      <th>6</th>\n",
       "      <th>7</th>\n",
       "      <th>8</th>\n",
       "      <th>9</th>\n",
       "      <th>...</th>\n",
       "      <th>101</th>\n",
       "      <th>102</th>\n",
       "      <th>103</th>\n",
       "      <th>104</th>\n",
       "      <th>105</th>\n",
       "      <th>106</th>\n",
       "      <th>107</th>\n",
       "      <th>108</th>\n",
       "      <th>109</th>\n",
       "      <th>110</th>\n",
       "    </tr>\n",
       "  </thead>\n",
       "  <tbody>\n",
       "    <tr>\n",
       "      <th>0</th>\n",
       "      <td>995029</td>\n",
       "      <td>3.0</td>\n",
       "      <td>3.0</td>\n",
       "      <td>5.0</td>\n",
       "      <td>5.0</td>\n",
       "      <td>2.0</td>\n",
       "      <td>3.0</td>\n",
       "      <td>2.0</td>\n",
       "      <td>5.0</td>\n",
       "      <td>5.0</td>\n",
       "      <td>...</td>\n",
       "      <td>291658.0</td>\n",
       "      <td>666.0</td>\n",
       "      <td>469.0</td>\n",
       "      <td>37.0</td>\n",
       "      <td>1954.0</td>\n",
       "      <td>33.0</td>\n",
       "      <td>0.0</td>\n",
       "      <td>41.0</td>\n",
       "      <td>865.0</td>\n",
       "      <td>-70.6503</td>\n",
       "    </tr>\n",
       "    <tr>\n",
       "      <th>1</th>\n",
       "      <td>995030</td>\n",
       "      <td>2.0</td>\n",
       "      <td>4.0</td>\n",
       "      <td>4.0</td>\n",
       "      <td>2.0</td>\n",
       "      <td>4.0</td>\n",
       "      <td>2.0</td>\n",
       "      <td>4.0</td>\n",
       "      <td>4.0</td>\n",
       "      <td>4.0</td>\n",
       "      <td>...</td>\n",
       "      <td>968800.0</td>\n",
       "      <td>666.0</td>\n",
       "      <td>469.0</td>\n",
       "      <td>6.0</td>\n",
       "      <td>208.0</td>\n",
       "      <td>30.0</td>\n",
       "      <td>0.0</td>\n",
       "      <td>208.0</td>\n",
       "      <td>19838.0</td>\n",
       "      <td>-123.0867</td>\n",
       "    </tr>\n",
       "    <tr>\n",
       "      <th>2</th>\n",
       "      <td>995031</td>\n",
       "      <td>2.0</td>\n",
       "      <td>1.0</td>\n",
       "      <td>3.0</td>\n",
       "      <td>2.0</td>\n",
       "      <td>5.0</td>\n",
       "      <td>1.0</td>\n",
       "      <td>5.0</td>\n",
       "      <td>4.0</td>\n",
       "      <td>4.0</td>\n",
       "      <td>...</td>\n",
       "      <td>567037.0</td>\n",
       "      <td>93.0</td>\n",
       "      <td>541.0</td>\n",
       "      <td>596.0</td>\n",
       "      <td>2892.0</td>\n",
       "      <td>1602.0</td>\n",
       "      <td>0.0</td>\n",
       "      <td>144.0</td>\n",
       "      <td>2745.0</td>\n",
       "      <td>112.5000</td>\n",
       "    </tr>\n",
       "    <tr>\n",
       "      <th>3</th>\n",
       "      <td>995032</td>\n",
       "      <td>1.0</td>\n",
       "      <td>4.0</td>\n",
       "      <td>1.0</td>\n",
       "      <td>5.0</td>\n",
       "      <td>2.0</td>\n",
       "      <td>2.0</td>\n",
       "      <td>1.0</td>\n",
       "      <td>5.0</td>\n",
       "      <td>2.0</td>\n",
       "      <td>...</td>\n",
       "      <td>989963.0</td>\n",
       "      <td>57.0</td>\n",
       "      <td>441.0</td>\n",
       "      <td>13.0</td>\n",
       "      <td>520.0</td>\n",
       "      <td>29.0</td>\n",
       "      <td>0.0</td>\n",
       "      <td>208.0</td>\n",
       "      <td>10546.0</td>\n",
       "      <td>-97.0000</td>\n",
       "    </tr>\n",
       "    <tr>\n",
       "      <th>4</th>\n",
       "      <td>995033</td>\n",
       "      <td>3.0</td>\n",
       "      <td>2.0</td>\n",
       "      <td>4.0</td>\n",
       "      <td>3.0</td>\n",
       "      <td>4.0</td>\n",
       "      <td>2.0</td>\n",
       "      <td>4.0</td>\n",
       "      <td>3.0</td>\n",
       "      <td>4.0</td>\n",
       "      <td>...</td>\n",
       "      <td>443675.0</td>\n",
       "      <td>36.0</td>\n",
       "      <td>272.0</td>\n",
       "      <td>3.0</td>\n",
       "      <td>285.0</td>\n",
       "      <td>15.0</td>\n",
       "      <td>0.0</td>\n",
       "      <td>208.0</td>\n",
       "      <td>9322.0</td>\n",
       "      <td>-76.3729</td>\n",
       "    </tr>\n",
       "  </tbody>\n",
       "</table>\n",
       "<p>5 rows × 111 columns</p>\n",
       "</div>"
      ],
      "text/plain": [
       "      0    1    2    3    4    5    6    7    8    9    ...       101    102  \\\n",
       "0  995029  3.0  3.0  5.0  5.0  2.0  3.0  2.0  5.0  5.0  ...  291658.0  666.0   \n",
       "1  995030  2.0  4.0  4.0  2.0  4.0  2.0  4.0  4.0  4.0  ...  968800.0  666.0   \n",
       "2  995031  2.0  1.0  3.0  2.0  5.0  1.0  5.0  4.0  4.0  ...  567037.0   93.0   \n",
       "3  995032  1.0  4.0  1.0  5.0  2.0  2.0  1.0  5.0  2.0  ...  989963.0   57.0   \n",
       "4  995033  3.0  2.0  4.0  3.0  4.0  2.0  4.0  3.0  4.0  ...  443675.0   36.0   \n",
       "\n",
       "     103    104     105     106  107    108      109       110  \n",
       "0  469.0   37.0  1954.0    33.0  0.0   41.0    865.0  -70.6503  \n",
       "1  469.0    6.0   208.0    30.0  0.0  208.0  19838.0 -123.0867  \n",
       "2  541.0  596.0  2892.0  1602.0  0.0  144.0   2745.0  112.5000  \n",
       "3  441.0   13.0   520.0    29.0  0.0  208.0  10546.0  -97.0000  \n",
       "4  272.0    3.0   285.0    15.0  0.0  208.0   9322.0  -76.3729  \n",
       "\n",
       "[5 rows x 111 columns]"
      ]
     },
     "execution_count": 73,
     "metadata": {},
     "output_type": "execute_result"
    }
   ],
   "source": [
    "pd.read_csv(StringIO(''.join(q)), header=None)"
   ]
  },
  {
   "cell_type": "code",
   "execution_count": 74,
   "metadata": {},
   "outputs": [
    {
     "name": "stdout",
     "output_type": "stream",
     "text": [
      "0\n",
      "100000\n",
      "200000\n",
      "300000\n",
      "400000\n",
      "500000\n",
      "600000\n",
      "700000\n",
      "800000\n",
      "900000\n"
     ]
    },
    {
     "ename": "EmptyDataError",
     "evalue": "No columns to parse from file",
     "output_type": "error",
     "traceback": [
      "\u001b[1;31m---------------------------------------------------------------------------\u001b[0m",
      "\u001b[1;31mEmptyDataError\u001b[0m                            Traceback (most recent call last)",
      "Cell \u001b[1;32mIn[74], line 8\u001b[0m\n\u001b[0;32m      1\u001b[0m \u001b[38;5;66;03m#如果数据没有索引，则使用pandas中的skiprows与nrows进行尝试\u001b[39;00m\n\u001b[0;32m      2\u001b[0m \u001b[38;5;66;03m#skiprows: 本次导入跳过前skiprows行\u001b[39;00m\n\u001b[0;32m      3\u001b[0m \u001b[38;5;66;03m#nrows：本次导入只导入nrows行\u001b[39;00m\n\u001b[0;32m      4\u001b[0m \u001b[38;5;66;03m#例如，当skiprows=1000, nrows=1000时，pandas会导入1001~2000行\u001b[39;00m\n\u001b[0;32m      5\u001b[0m \u001b[38;5;66;03m#当skiprows超出数据量时，就会报空值错误EmptyDataError\u001b[39;00m\n\u001b[0;32m      7\u001b[0m \u001b[38;5;28;01mfor\u001b[39;00m i \u001b[38;5;129;01min\u001b[39;00m \u001b[38;5;28mrange\u001b[39m(\u001b[38;5;241m0\u001b[39m,\u001b[38;5;241m10\u001b[39m\u001b[38;5;241m*\u001b[39m\u001b[38;5;241m*\u001b[39m\u001b[38;5;241m7\u001b[39m,\u001b[38;5;241m100000\u001b[39m):\n\u001b[1;32m----> 8\u001b[0m     df \u001b[38;5;241m=\u001b[39m pd\u001b[38;5;241m.\u001b[39mread_csv(trainpath,skiprows\u001b[38;5;241m=\u001b[39mi, nrows\u001b[38;5;241m=\u001b[39m\u001b[38;5;241m1\u001b[39m)\n\u001b[0;32m      9\u001b[0m     \u001b[38;5;28mprint\u001b[39m(i)\n",
      "File \u001b[1;32md:\\CODE\\Lib\\site-packages\\pandas\\io\\parsers\\readers.py:948\u001b[0m, in \u001b[0;36mread_csv\u001b[1;34m(filepath_or_buffer, sep, delimiter, header, names, index_col, usecols, dtype, engine, converters, true_values, false_values, skipinitialspace, skiprows, skipfooter, nrows, na_values, keep_default_na, na_filter, verbose, skip_blank_lines, parse_dates, infer_datetime_format, keep_date_col, date_parser, date_format, dayfirst, cache_dates, iterator, chunksize, compression, thousands, decimal, lineterminator, quotechar, quoting, doublequote, escapechar, comment, encoding, encoding_errors, dialect, on_bad_lines, delim_whitespace, low_memory, memory_map, float_precision, storage_options, dtype_backend)\u001b[0m\n\u001b[0;32m    935\u001b[0m kwds_defaults \u001b[38;5;241m=\u001b[39m _refine_defaults_read(\n\u001b[0;32m    936\u001b[0m     dialect,\n\u001b[0;32m    937\u001b[0m     delimiter,\n\u001b[1;32m   (...)\u001b[0m\n\u001b[0;32m    944\u001b[0m     dtype_backend\u001b[38;5;241m=\u001b[39mdtype_backend,\n\u001b[0;32m    945\u001b[0m )\n\u001b[0;32m    946\u001b[0m kwds\u001b[38;5;241m.\u001b[39mupdate(kwds_defaults)\n\u001b[1;32m--> 948\u001b[0m \u001b[38;5;28;01mreturn\u001b[39;00m _read(filepath_or_buffer, kwds)\n",
      "File \u001b[1;32md:\\CODE\\Lib\\site-packages\\pandas\\io\\parsers\\readers.py:611\u001b[0m, in \u001b[0;36m_read\u001b[1;34m(filepath_or_buffer, kwds)\u001b[0m\n\u001b[0;32m    608\u001b[0m _validate_names(kwds\u001b[38;5;241m.\u001b[39mget(\u001b[38;5;124m\"\u001b[39m\u001b[38;5;124mnames\u001b[39m\u001b[38;5;124m\"\u001b[39m, \u001b[38;5;28;01mNone\u001b[39;00m))\n\u001b[0;32m    610\u001b[0m \u001b[38;5;66;03m# Create the parser.\u001b[39;00m\n\u001b[1;32m--> 611\u001b[0m parser \u001b[38;5;241m=\u001b[39m TextFileReader(filepath_or_buffer, \u001b[38;5;241m*\u001b[39m\u001b[38;5;241m*\u001b[39mkwds)\n\u001b[0;32m    613\u001b[0m \u001b[38;5;28;01mif\u001b[39;00m chunksize \u001b[38;5;129;01mor\u001b[39;00m iterator:\n\u001b[0;32m    614\u001b[0m     \u001b[38;5;28;01mreturn\u001b[39;00m parser\n",
      "File \u001b[1;32md:\\CODE\\Lib\\site-packages\\pandas\\io\\parsers\\readers.py:1448\u001b[0m, in \u001b[0;36mTextFileReader.__init__\u001b[1;34m(self, f, engine, **kwds)\u001b[0m\n\u001b[0;32m   1445\u001b[0m     \u001b[38;5;28mself\u001b[39m\u001b[38;5;241m.\u001b[39moptions[\u001b[38;5;124m\"\u001b[39m\u001b[38;5;124mhas_index_names\u001b[39m\u001b[38;5;124m\"\u001b[39m] \u001b[38;5;241m=\u001b[39m kwds[\u001b[38;5;124m\"\u001b[39m\u001b[38;5;124mhas_index_names\u001b[39m\u001b[38;5;124m\"\u001b[39m]\n\u001b[0;32m   1447\u001b[0m \u001b[38;5;28mself\u001b[39m\u001b[38;5;241m.\u001b[39mhandles: IOHandles \u001b[38;5;241m|\u001b[39m \u001b[38;5;28;01mNone\u001b[39;00m \u001b[38;5;241m=\u001b[39m \u001b[38;5;28;01mNone\u001b[39;00m\n\u001b[1;32m-> 1448\u001b[0m \u001b[38;5;28mself\u001b[39m\u001b[38;5;241m.\u001b[39m_engine \u001b[38;5;241m=\u001b[39m \u001b[38;5;28mself\u001b[39m\u001b[38;5;241m.\u001b[39m_make_engine(f, \u001b[38;5;28mself\u001b[39m\u001b[38;5;241m.\u001b[39mengine)\n",
      "File \u001b[1;32md:\\CODE\\Lib\\site-packages\\pandas\\io\\parsers\\readers.py:1723\u001b[0m, in \u001b[0;36mTextFileReader._make_engine\u001b[1;34m(self, f, engine)\u001b[0m\n\u001b[0;32m   1720\u001b[0m     \u001b[38;5;28;01mraise\u001b[39;00m \u001b[38;5;167;01mValueError\u001b[39;00m(msg)\n\u001b[0;32m   1722\u001b[0m \u001b[38;5;28;01mtry\u001b[39;00m:\n\u001b[1;32m-> 1723\u001b[0m     \u001b[38;5;28;01mreturn\u001b[39;00m mapping[engine](f, \u001b[38;5;241m*\u001b[39m\u001b[38;5;241m*\u001b[39m\u001b[38;5;28mself\u001b[39m\u001b[38;5;241m.\u001b[39moptions)\n\u001b[0;32m   1724\u001b[0m \u001b[38;5;28;01mexcept\u001b[39;00m \u001b[38;5;167;01mException\u001b[39;00m:\n\u001b[0;32m   1725\u001b[0m     \u001b[38;5;28;01mif\u001b[39;00m \u001b[38;5;28mself\u001b[39m\u001b[38;5;241m.\u001b[39mhandles \u001b[38;5;129;01mis\u001b[39;00m \u001b[38;5;129;01mnot\u001b[39;00m \u001b[38;5;28;01mNone\u001b[39;00m:\n",
      "File \u001b[1;32md:\\CODE\\Lib\\site-packages\\pandas\\io\\parsers\\c_parser_wrapper.py:93\u001b[0m, in \u001b[0;36mCParserWrapper.__init__\u001b[1;34m(self, src, **kwds)\u001b[0m\n\u001b[0;32m     90\u001b[0m \u001b[38;5;28;01mif\u001b[39;00m kwds[\u001b[38;5;124m\"\u001b[39m\u001b[38;5;124mdtype_backend\u001b[39m\u001b[38;5;124m\"\u001b[39m] \u001b[38;5;241m==\u001b[39m \u001b[38;5;124m\"\u001b[39m\u001b[38;5;124mpyarrow\u001b[39m\u001b[38;5;124m\"\u001b[39m:\n\u001b[0;32m     91\u001b[0m     \u001b[38;5;66;03m# Fail here loudly instead of in cython after reading\u001b[39;00m\n\u001b[0;32m     92\u001b[0m     import_optional_dependency(\u001b[38;5;124m\"\u001b[39m\u001b[38;5;124mpyarrow\u001b[39m\u001b[38;5;124m\"\u001b[39m)\n\u001b[1;32m---> 93\u001b[0m \u001b[38;5;28mself\u001b[39m\u001b[38;5;241m.\u001b[39m_reader \u001b[38;5;241m=\u001b[39m parsers\u001b[38;5;241m.\u001b[39mTextReader(src, \u001b[38;5;241m*\u001b[39m\u001b[38;5;241m*\u001b[39mkwds)\n\u001b[0;32m     95\u001b[0m \u001b[38;5;28mself\u001b[39m\u001b[38;5;241m.\u001b[39munnamed_cols \u001b[38;5;241m=\u001b[39m \u001b[38;5;28mself\u001b[39m\u001b[38;5;241m.\u001b[39m_reader\u001b[38;5;241m.\u001b[39munnamed_cols\n\u001b[0;32m     97\u001b[0m \u001b[38;5;66;03m# error: Cannot determine type of 'names'\u001b[39;00m\n",
      "File \u001b[1;32mparsers.pyx:586\u001b[0m, in \u001b[0;36mpandas._libs.parsers.TextReader.__cinit__\u001b[1;34m()\u001b[0m\n",
      "\u001b[1;31mEmptyDataError\u001b[0m: No columns to parse from file"
     ]
    }
   ],
   "source": [
    "#如果数据没有索引，则使用pandas中的skiprows与nrows进行尝试\n",
    "#skiprows: 本次导入跳过前skiprows行\n",
    "#nrows：本次导入只导入nrows行\n",
    "#例如，当skiprows=1000, nrows=1000时，pandas会导入1001~2000行\n",
    "#当skiprows超出数据量时，就会报空值错误EmptyDataError\n",
    "\n",
    "#If the data does not have an index, try using skiprows and nrows in pandas\n",
    "#skiprows: This import skips the first skiprows lines\n",
    "#nrows: This import only imports nrows rows\n",
    "#For example, when skiprows=1000, nrows=1000, pandas will import rows 1001~2000\n",
    "#When skiprows exceeds the amount of data, an empty value error EmptyDataError will be reported.\n",
    "\n",
    "\n",
    "# according to output, we can know it's more than 900000 and less than 1000000\n",
    "for i in range(0,10**7,100000):\n",
    "    df = pd.read_csv(trainpath,skiprows=i, nrows=1)\n",
    "    print(i)"
   ]
  },
  {
   "cell_type": "code",
   "execution_count": 75,
   "metadata": {},
   "outputs": [
    {
     "data": {
      "text/plain": [
       "[0,\n",
       " 50000,\n",
       " 100000,\n",
       " 150000,\n",
       " 200000,\n",
       " 250000,\n",
       " 300000,\n",
       " 350000,\n",
       " 400000,\n",
       " 450000,\n",
       " 500000,\n",
       " 550000,\n",
       " 600000,\n",
       " 650000,\n",
       " 700000,\n",
       " 750000,\n",
       " 800000,\n",
       " 850000,\n",
       " 900000,\n",
       " 950000]"
      ]
     },
     "execution_count": 75,
     "metadata": {},
     "output_type": "execute_result"
    }
   ],
   "source": [
    "[*range(0,10**6,50000)]"
   ]
  },
  {
   "cell_type": "code",
   "execution_count": 76,
   "metadata": {},
   "outputs": [],
   "source": [
    "reg = RFR(n_estimators=10,\n",
    "          random_state=21,\n",
    "          warm_start=True,\n",
    "          verbose=True,\n",
    "          #n_jobs=-1\n",
    "          n_jobs=8)"
   ]
  },
  {
   "cell_type": "code",
   "execution_count": 77,
   "metadata": {},
   "outputs": [],
   "source": [
    "test = pd.read_csv(testpath, header=\"infer\", index_col=0)\n",
    "Xtest = test.iloc[:, :-1]\n",
    "Ytest = test.iloc[:, -1]"
   ]
  },
  {
   "cell_type": "code",
   "execution_count": 79,
   "metadata": {},
   "outputs": [
    {
     "data": {
      "text/html": [
       "<div>\n",
       "<style scoped>\n",
       "    .dataframe tbody tr th:only-of-type {\n",
       "        vertical-align: middle;\n",
       "    }\n",
       "\n",
       "    .dataframe tbody tr th {\n",
       "        vertical-align: top;\n",
       "    }\n",
       "\n",
       "    .dataframe thead th {\n",
       "        text-align: right;\n",
       "    }\n",
       "</style>\n",
       "<table border=\"1\" class=\"dataframe\">\n",
       "  <thead>\n",
       "    <tr style=\"text-align: right;\">\n",
       "      <th></th>\n",
       "      <th>EXT1</th>\n",
       "      <th>EXT2</th>\n",
       "      <th>EXT3</th>\n",
       "      <th>EXT4</th>\n",
       "      <th>EXT5</th>\n",
       "      <th>EXT6</th>\n",
       "      <th>EXT7</th>\n",
       "      <th>EXT8</th>\n",
       "      <th>EXT9</th>\n",
       "      <th>EXT10</th>\n",
       "      <th>...</th>\n",
       "      <th>OPN10_E</th>\n",
       "      <th>dateload</th>\n",
       "      <th>screenw</th>\n",
       "      <th>screenh</th>\n",
       "      <th>introelapse</th>\n",
       "      <th>testelapse</th>\n",
       "      <th>endelapse</th>\n",
       "      <th>IPC</th>\n",
       "      <th>country</th>\n",
       "      <th>lat_appx_lots_of_err</th>\n",
       "    </tr>\n",
       "  </thead>\n",
       "  <tbody>\n",
       "    <tr>\n",
       "      <th>0</th>\n",
       "      <td>3</td>\n",
       "      <td>2</td>\n",
       "      <td>4</td>\n",
       "      <td>2</td>\n",
       "      <td>4</td>\n",
       "      <td>2</td>\n",
       "      <td>2</td>\n",
       "      <td>2</td>\n",
       "      <td>4</td>\n",
       "      <td>2</td>\n",
       "      <td>...</td>\n",
       "      <td>1398</td>\n",
       "      <td>971898</td>\n",
       "      <td>396</td>\n",
       "      <td>469</td>\n",
       "      <td>60</td>\n",
       "      <td>188</td>\n",
       "      <td>12</td>\n",
       "      <td>0</td>\n",
       "      <td>208</td>\n",
       "      <td>8663</td>\n",
       "    </tr>\n",
       "    <tr>\n",
       "      <th>1</th>\n",
       "      <td>4</td>\n",
       "      <td>1</td>\n",
       "      <td>4</td>\n",
       "      <td>2</td>\n",
       "      <td>5</td>\n",
       "      <td>1</td>\n",
       "      <td>5</td>\n",
       "      <td>2</td>\n",
       "      <td>5</td>\n",
       "      <td>2</td>\n",
       "      <td>...</td>\n",
       "      <td>995</td>\n",
       "      <td>814072</td>\n",
       "      <td>1024</td>\n",
       "      <td>755</td>\n",
       "      <td>168</td>\n",
       "      <td>105</td>\n",
       "      <td>6</td>\n",
       "      <td>0</td>\n",
       "      <td>208</td>\n",
       "      <td>20723</td>\n",
       "    </tr>\n",
       "    <tr>\n",
       "      <th>2</th>\n",
       "      <td>3</td>\n",
       "      <td>5</td>\n",
       "      <td>3</td>\n",
       "      <td>3</td>\n",
       "      <td>3</td>\n",
       "      <td>5</td>\n",
       "      <td>3</td>\n",
       "      <td>5</td>\n",
       "      <td>1</td>\n",
       "      <td>5</td>\n",
       "      <td>...</td>\n",
       "      <td>3533</td>\n",
       "      <td>86908</td>\n",
       "      <td>396</td>\n",
       "      <td>469</td>\n",
       "      <td>26</td>\n",
       "      <td>316</td>\n",
       "      <td>20</td>\n",
       "      <td>0</td>\n",
       "      <td>61</td>\n",
       "      <td>30695</td>\n",
       "    </tr>\n",
       "    <tr>\n",
       "      <th>3</th>\n",
       "      <td>3</td>\n",
       "      <td>2</td>\n",
       "      <td>5</td>\n",
       "      <td>5</td>\n",
       "      <td>3</td>\n",
       "      <td>2</td>\n",
       "      <td>4</td>\n",
       "      <td>3</td>\n",
       "      <td>2</td>\n",
       "      <td>2</td>\n",
       "      <td>...</td>\n",
       "      <td>1533</td>\n",
       "      <td>822586</td>\n",
       "      <td>666</td>\n",
       "      <td>469</td>\n",
       "      <td>3</td>\n",
       "      <td>323</td>\n",
       "      <td>17</td>\n",
       "      <td>0</td>\n",
       "      <td>51</td>\n",
       "      <td>27919</td>\n",
       "    </tr>\n",
       "    <tr>\n",
       "      <th>4</th>\n",
       "      <td>2</td>\n",
       "      <td>1</td>\n",
       "      <td>5</td>\n",
       "      <td>1</td>\n",
       "      <td>5</td>\n",
       "      <td>1</td>\n",
       "      <td>5</td>\n",
       "      <td>3</td>\n",
       "      <td>2</td>\n",
       "      <td>5</td>\n",
       "      <td>...</td>\n",
       "      <td>2491</td>\n",
       "      <td>728955</td>\n",
       "      <td>666</td>\n",
       "      <td>469</td>\n",
       "      <td>26</td>\n",
       "      <td>210</td>\n",
       "      <td>225</td>\n",
       "      <td>39</td>\n",
       "      <td>12</td>\n",
       "      <td>434</td>\n",
       "    </tr>\n",
       "  </tbody>\n",
       "</table>\n",
       "<p>5 rows × 109 columns</p>\n",
       "</div>"
      ],
      "text/plain": [
       "   EXT1  EXT2  EXT3  EXT4  EXT5  EXT6  EXT7  EXT8  EXT9  EXT10  ...  OPN10_E  \\\n",
       "0     3     2     4     2     4     2     2     2     4      2  ...     1398   \n",
       "1     4     1     4     2     5     1     5     2     5      2  ...      995   \n",
       "2     3     5     3     3     3     5     3     5     1      5  ...     3533   \n",
       "3     3     2     5     5     3     2     4     3     2      2  ...     1533   \n",
       "4     2     1     5     1     5     1     5     3     2      5  ...     2491   \n",
       "\n",
       "   dateload  screenw  screenh  introelapse  testelapse  endelapse  IPC  \\\n",
       "0    971898      396      469           60         188         12    0   \n",
       "1    814072     1024      755          168         105          6    0   \n",
       "2     86908      396      469           26         316         20    0   \n",
       "3    822586      666      469            3         323         17    0   \n",
       "4    728955      666      469           26         210        225   39   \n",
       "\n",
       "   country  lat_appx_lots_of_err  \n",
       "0      208                  8663  \n",
       "1      208                 20723  \n",
       "2       61                 30695  \n",
       "3       51                 27919  \n",
       "4       12                   434  \n",
       "\n",
       "[5 rows x 109 columns]"
      ]
     },
     "execution_count": 79,
     "metadata": {},
     "output_type": "execute_result"
    }
   ],
   "source": [
    "Xtest.head()"
   ]
  },
  {
   "cell_type": "code",
   "execution_count": 80,
   "metadata": {},
   "outputs": [],
   "source": [
    "#What happens when skiprows+nrows exceeds the amount of data?\n",
    "trainsubset = pd.read_csv(trainpath, header=None, index_col=0\n",
    "                          , skiprows=950000\n",
    "                          , nrows=50000)\n"
   ]
  },
  {
   "cell_type": "code",
   "execution_count": 81,
   "metadata": {},
   "outputs": [
    {
     "data": {
      "text/html": [
       "<div>\n",
       "<style scoped>\n",
       "    .dataframe tbody tr th:only-of-type {\n",
       "        vertical-align: middle;\n",
       "    }\n",
       "\n",
       "    .dataframe tbody tr th {\n",
       "        vertical-align: top;\n",
       "    }\n",
       "\n",
       "    .dataframe thead th {\n",
       "        text-align: right;\n",
       "    }\n",
       "</style>\n",
       "<table border=\"1\" class=\"dataframe\">\n",
       "  <thead>\n",
       "    <tr style=\"text-align: right;\">\n",
       "      <th></th>\n",
       "      <th>1</th>\n",
       "      <th>2</th>\n",
       "      <th>3</th>\n",
       "      <th>4</th>\n",
       "      <th>5</th>\n",
       "      <th>6</th>\n",
       "      <th>7</th>\n",
       "      <th>8</th>\n",
       "      <th>9</th>\n",
       "      <th>10</th>\n",
       "      <th>...</th>\n",
       "      <th>101</th>\n",
       "      <th>102</th>\n",
       "      <th>103</th>\n",
       "      <th>104</th>\n",
       "      <th>105</th>\n",
       "      <th>106</th>\n",
       "      <th>107</th>\n",
       "      <th>108</th>\n",
       "      <th>109</th>\n",
       "      <th>110</th>\n",
       "    </tr>\n",
       "    <tr>\n",
       "      <th>0</th>\n",
       "      <th></th>\n",
       "      <th></th>\n",
       "      <th></th>\n",
       "      <th></th>\n",
       "      <th></th>\n",
       "      <th></th>\n",
       "      <th></th>\n",
       "      <th></th>\n",
       "      <th></th>\n",
       "      <th></th>\n",
       "      <th></th>\n",
       "      <th></th>\n",
       "      <th></th>\n",
       "      <th></th>\n",
       "      <th></th>\n",
       "      <th></th>\n",
       "      <th></th>\n",
       "      <th></th>\n",
       "      <th></th>\n",
       "      <th></th>\n",
       "      <th></th>\n",
       "    </tr>\n",
       "  </thead>\n",
       "  <tbody>\n",
       "    <tr>\n",
       "      <th>995029</th>\n",
       "      <td>3.0</td>\n",
       "      <td>3.0</td>\n",
       "      <td>5.0</td>\n",
       "      <td>5.0</td>\n",
       "      <td>2.0</td>\n",
       "      <td>3.0</td>\n",
       "      <td>2.0</td>\n",
       "      <td>5.0</td>\n",
       "      <td>5.0</td>\n",
       "      <td>5.0</td>\n",
       "      <td>...</td>\n",
       "      <td>291658.0</td>\n",
       "      <td>666.0</td>\n",
       "      <td>469.0</td>\n",
       "      <td>37.0</td>\n",
       "      <td>1954.0</td>\n",
       "      <td>33.0</td>\n",
       "      <td>0.0</td>\n",
       "      <td>41.0</td>\n",
       "      <td>865.0</td>\n",
       "      <td>-70.6503</td>\n",
       "    </tr>\n",
       "    <tr>\n",
       "      <th>995030</th>\n",
       "      <td>2.0</td>\n",
       "      <td>4.0</td>\n",
       "      <td>4.0</td>\n",
       "      <td>2.0</td>\n",
       "      <td>4.0</td>\n",
       "      <td>2.0</td>\n",
       "      <td>4.0</td>\n",
       "      <td>4.0</td>\n",
       "      <td>4.0</td>\n",
       "      <td>4.0</td>\n",
       "      <td>...</td>\n",
       "      <td>968800.0</td>\n",
       "      <td>666.0</td>\n",
       "      <td>469.0</td>\n",
       "      <td>6.0</td>\n",
       "      <td>208.0</td>\n",
       "      <td>30.0</td>\n",
       "      <td>0.0</td>\n",
       "      <td>208.0</td>\n",
       "      <td>19838.0</td>\n",
       "      <td>-123.0867</td>\n",
       "    </tr>\n",
       "    <tr>\n",
       "      <th>995031</th>\n",
       "      <td>2.0</td>\n",
       "      <td>1.0</td>\n",
       "      <td>3.0</td>\n",
       "      <td>2.0</td>\n",
       "      <td>5.0</td>\n",
       "      <td>1.0</td>\n",
       "      <td>5.0</td>\n",
       "      <td>4.0</td>\n",
       "      <td>4.0</td>\n",
       "      <td>3.0</td>\n",
       "      <td>...</td>\n",
       "      <td>567037.0</td>\n",
       "      <td>93.0</td>\n",
       "      <td>541.0</td>\n",
       "      <td>596.0</td>\n",
       "      <td>2892.0</td>\n",
       "      <td>1602.0</td>\n",
       "      <td>0.0</td>\n",
       "      <td>144.0</td>\n",
       "      <td>2745.0</td>\n",
       "      <td>112.5000</td>\n",
       "    </tr>\n",
       "    <tr>\n",
       "      <th>995032</th>\n",
       "      <td>1.0</td>\n",
       "      <td>4.0</td>\n",
       "      <td>1.0</td>\n",
       "      <td>5.0</td>\n",
       "      <td>2.0</td>\n",
       "      <td>2.0</td>\n",
       "      <td>1.0</td>\n",
       "      <td>5.0</td>\n",
       "      <td>2.0</td>\n",
       "      <td>4.0</td>\n",
       "      <td>...</td>\n",
       "      <td>989963.0</td>\n",
       "      <td>57.0</td>\n",
       "      <td>441.0</td>\n",
       "      <td>13.0</td>\n",
       "      <td>520.0</td>\n",
       "      <td>29.0</td>\n",
       "      <td>0.0</td>\n",
       "      <td>208.0</td>\n",
       "      <td>10546.0</td>\n",
       "      <td>-97.0000</td>\n",
       "    </tr>\n",
       "    <tr>\n",
       "      <th>995033</th>\n",
       "      <td>3.0</td>\n",
       "      <td>2.0</td>\n",
       "      <td>4.0</td>\n",
       "      <td>3.0</td>\n",
       "      <td>4.0</td>\n",
       "      <td>2.0</td>\n",
       "      <td>4.0</td>\n",
       "      <td>3.0</td>\n",
       "      <td>4.0</td>\n",
       "      <td>3.0</td>\n",
       "      <td>...</td>\n",
       "      <td>443675.0</td>\n",
       "      <td>36.0</td>\n",
       "      <td>272.0</td>\n",
       "      <td>3.0</td>\n",
       "      <td>285.0</td>\n",
       "      <td>15.0</td>\n",
       "      <td>0.0</td>\n",
       "      <td>208.0</td>\n",
       "      <td>9322.0</td>\n",
       "      <td>-76.3729</td>\n",
       "    </tr>\n",
       "  </tbody>\n",
       "</table>\n",
       "<p>5 rows × 110 columns</p>\n",
       "</div>"
      ],
      "text/plain": [
       "        1    2    3    4    5    6    7    8    9    10   ...       101  \\\n",
       "0                                                         ...             \n",
       "995029  3.0  3.0  5.0  5.0  2.0  3.0  2.0  5.0  5.0  5.0  ...  291658.0   \n",
       "995030  2.0  4.0  4.0  2.0  4.0  2.0  4.0  4.0  4.0  4.0  ...  968800.0   \n",
       "995031  2.0  1.0  3.0  2.0  5.0  1.0  5.0  4.0  4.0  3.0  ...  567037.0   \n",
       "995032  1.0  4.0  1.0  5.0  2.0  2.0  1.0  5.0  2.0  4.0  ...  989963.0   \n",
       "995033  3.0  2.0  4.0  3.0  4.0  2.0  4.0  3.0  4.0  3.0  ...  443675.0   \n",
       "\n",
       "          102    103    104     105     106  107    108      109       110  \n",
       "0                                                                           \n",
       "995029  666.0  469.0   37.0  1954.0    33.0  0.0   41.0    865.0  -70.6503  \n",
       "995030  666.0  469.0    6.0   208.0    30.0  0.0  208.0  19838.0 -123.0867  \n",
       "995031   93.0  541.0  596.0  2892.0  1602.0  0.0  144.0   2745.0  112.5000  \n",
       "995032   57.0  441.0   13.0   520.0    29.0  0.0  208.0  10546.0  -97.0000  \n",
       "995033   36.0  272.0    3.0   285.0    15.0  0.0  208.0   9322.0  -76.3729  \n",
       "\n",
       "[5 rows x 110 columns]"
      ]
     },
     "execution_count": 81,
     "metadata": {},
     "output_type": "execute_result"
    }
   ],
   "source": [
    "trainsubset.tail(5) #Export all remaining data, even if it is less than 2 million"
   ]
  },
  {
   "cell_type": "code",
   "execution_count": 82,
   "metadata": {},
   "outputs": [
    {
     "data": {
      "text/plain": [
       "(45035, 110)"
      ]
     },
     "execution_count": 82,
     "metadata": {},
     "output_type": "execute_result"
    }
   ],
   "source": [
    "trainsubset.shape "
   ]
  },
  {
   "cell_type": "code",
   "execution_count": 83,
   "metadata": {},
   "outputs": [],
   "source": [
    "looprange = range(0,10**6,50000)"
   ]
  },
  {
   "cell_type": "code",
   "execution_count": 84,
   "metadata": {},
   "outputs": [
    {
     "name": "stderr",
     "output_type": "stream",
     "text": [
      "[Parallel(n_jobs=8)]: Using backend ThreadingBackend with 8 concurrent workers.\n",
      "[Parallel(n_jobs=8)]: Done   6 out of  10 | elapsed:    8.6s remaining:    5.7s\n",
      "[Parallel(n_jobs=8)]: Done  10 out of  10 | elapsed:   14.5s finished\n"
     ]
    },
    {
     "name": "stdout",
     "output_type": "stream",
     "text": [
      "DONE 50000\n"
     ]
    },
    {
     "name": "stderr",
     "output_type": "stream",
     "text": [
      "[Parallel(n_jobs=8)]: Using backend ThreadingBackend with 8 concurrent workers.\n",
      "[Parallel(n_jobs=8)]: Done   6 out of  10 | elapsed:    8.9s remaining:    5.9s\n",
      "[Parallel(n_jobs=8)]: Done  10 out of  10 | elapsed:   14.5s finished\n"
     ]
    },
    {
     "name": "stdout",
     "output_type": "stream",
     "text": [
      "DONE 100000\n"
     ]
    },
    {
     "name": "stderr",
     "output_type": "stream",
     "text": [
      "[Parallel(n_jobs=8)]: Using backend ThreadingBackend with 8 concurrent workers.\n",
      "[Parallel(n_jobs=8)]: Done   6 out of  10 | elapsed:    9.5s remaining:    6.3s\n",
      "[Parallel(n_jobs=8)]: Done  10 out of  10 | elapsed:   15.3s finished\n"
     ]
    },
    {
     "name": "stdout",
     "output_type": "stream",
     "text": [
      "DONE 150000\n"
     ]
    },
    {
     "name": "stderr",
     "output_type": "stream",
     "text": [
      "[Parallel(n_jobs=8)]: Using backend ThreadingBackend with 8 concurrent workers.\n",
      "[Parallel(n_jobs=8)]: Done   6 out of  10 | elapsed:    8.9s remaining:    5.9s\n",
      "[Parallel(n_jobs=8)]: Done  10 out of  10 | elapsed:   14.6s finished\n"
     ]
    },
    {
     "name": "stdout",
     "output_type": "stream",
     "text": [
      "DONE 200000\n"
     ]
    },
    {
     "name": "stderr",
     "output_type": "stream",
     "text": [
      "[Parallel(n_jobs=8)]: Using backend ThreadingBackend with 8 concurrent workers.\n",
      "[Parallel(n_jobs=8)]: Done   6 out of  10 | elapsed:    9.0s remaining:    6.0s\n",
      "[Parallel(n_jobs=8)]: Done  10 out of  10 | elapsed:   14.6s finished\n"
     ]
    },
    {
     "name": "stdout",
     "output_type": "stream",
     "text": [
      "DONE 250000\n"
     ]
    },
    {
     "name": "stderr",
     "output_type": "stream",
     "text": [
      "[Parallel(n_jobs=8)]: Using backend ThreadingBackend with 8 concurrent workers.\n",
      "[Parallel(n_jobs=8)]: Done   6 out of  10 | elapsed:    9.3s remaining:    6.2s\n",
      "[Parallel(n_jobs=8)]: Done  10 out of  10 | elapsed:   14.3s finished\n"
     ]
    },
    {
     "name": "stdout",
     "output_type": "stream",
     "text": [
      "DONE 300000\n"
     ]
    },
    {
     "name": "stderr",
     "output_type": "stream",
     "text": [
      "[Parallel(n_jobs=8)]: Using backend ThreadingBackend with 8 concurrent workers.\n",
      "[Parallel(n_jobs=8)]: Done   6 out of  10 | elapsed:    8.6s remaining:    5.7s\n",
      "[Parallel(n_jobs=8)]: Done  10 out of  10 | elapsed:   13.9s finished\n"
     ]
    },
    {
     "name": "stdout",
     "output_type": "stream",
     "text": [
      "DONE 350000\n"
     ]
    },
    {
     "name": "stderr",
     "output_type": "stream",
     "text": [
      "[Parallel(n_jobs=8)]: Using backend ThreadingBackend with 8 concurrent workers.\n",
      "[Parallel(n_jobs=8)]: Done   6 out of  10 | elapsed:    8.6s remaining:    5.7s\n",
      "[Parallel(n_jobs=8)]: Done  10 out of  10 | elapsed:   14.5s finished\n"
     ]
    },
    {
     "name": "stdout",
     "output_type": "stream",
     "text": [
      "DONE 400000\n"
     ]
    },
    {
     "name": "stderr",
     "output_type": "stream",
     "text": [
      "[Parallel(n_jobs=8)]: Using backend ThreadingBackend with 8 concurrent workers.\n",
      "[Parallel(n_jobs=8)]: Done   6 out of  10 | elapsed:    8.7s remaining:    5.7s\n",
      "[Parallel(n_jobs=8)]: Done  10 out of  10 | elapsed:   14.4s finished\n"
     ]
    },
    {
     "name": "stdout",
     "output_type": "stream",
     "text": [
      "DONE 450000\n"
     ]
    },
    {
     "name": "stderr",
     "output_type": "stream",
     "text": [
      "[Parallel(n_jobs=8)]: Using backend ThreadingBackend with 8 concurrent workers.\n",
      "[Parallel(n_jobs=8)]: Done   6 out of  10 | elapsed:    8.9s remaining:    5.9s\n",
      "[Parallel(n_jobs=8)]: Done  10 out of  10 | elapsed:   14.0s finished\n"
     ]
    },
    {
     "name": "stdout",
     "output_type": "stream",
     "text": [
      "DONE 500000\n"
     ]
    },
    {
     "name": "stderr",
     "output_type": "stream",
     "text": [
      "[Parallel(n_jobs=8)]: Using backend ThreadingBackend with 8 concurrent workers.\n",
      "[Parallel(n_jobs=8)]: Done   6 out of  10 | elapsed:    9.2s remaining:    6.1s\n",
      "[Parallel(n_jobs=8)]: Done  10 out of  10 | elapsed:   14.7s finished\n"
     ]
    },
    {
     "name": "stdout",
     "output_type": "stream",
     "text": [
      "DONE 550000\n"
     ]
    },
    {
     "name": "stderr",
     "output_type": "stream",
     "text": [
      "[Parallel(n_jobs=8)]: Using backend ThreadingBackend with 8 concurrent workers.\n",
      "[Parallel(n_jobs=8)]: Done   6 out of  10 | elapsed:    8.9s remaining:    5.9s\n",
      "[Parallel(n_jobs=8)]: Done  10 out of  10 | elapsed:   14.3s finished\n"
     ]
    },
    {
     "name": "stdout",
     "output_type": "stream",
     "text": [
      "DONE 600000\n"
     ]
    },
    {
     "name": "stderr",
     "output_type": "stream",
     "text": [
      "[Parallel(n_jobs=8)]: Using backend ThreadingBackend with 8 concurrent workers.\n",
      "[Parallel(n_jobs=8)]: Done   6 out of  10 | elapsed:    9.1s remaining:    6.0s\n",
      "[Parallel(n_jobs=8)]: Done  10 out of  10 | elapsed:   15.2s finished\n"
     ]
    },
    {
     "name": "stdout",
     "output_type": "stream",
     "text": [
      "DONE 650000\n"
     ]
    },
    {
     "name": "stderr",
     "output_type": "stream",
     "text": [
      "[Parallel(n_jobs=8)]: Using backend ThreadingBackend with 8 concurrent workers.\n",
      "[Parallel(n_jobs=8)]: Done   6 out of  10 | elapsed:   10.6s remaining:    7.0s\n",
      "[Parallel(n_jobs=8)]: Done  10 out of  10 | elapsed:   15.6s finished\n"
     ]
    },
    {
     "name": "stdout",
     "output_type": "stream",
     "text": [
      "DONE 700000\n"
     ]
    },
    {
     "name": "stderr",
     "output_type": "stream",
     "text": [
      "[Parallel(n_jobs=8)]: Using backend ThreadingBackend with 8 concurrent workers.\n",
      "[Parallel(n_jobs=8)]: Done   6 out of  10 | elapsed:    9.4s remaining:    6.3s\n",
      "[Parallel(n_jobs=8)]: Done  10 out of  10 | elapsed:   14.4s finished\n"
     ]
    },
    {
     "name": "stdout",
     "output_type": "stream",
     "text": [
      "DONE 750000\n"
     ]
    },
    {
     "name": "stderr",
     "output_type": "stream",
     "text": [
      "[Parallel(n_jobs=8)]: Using backend ThreadingBackend with 8 concurrent workers.\n",
      "[Parallel(n_jobs=8)]: Done   6 out of  10 | elapsed:    8.8s remaining:    5.8s\n",
      "[Parallel(n_jobs=8)]: Done  10 out of  10 | elapsed:   14.6s finished\n"
     ]
    },
    {
     "name": "stdout",
     "output_type": "stream",
     "text": [
      "DONE 800000\n"
     ]
    },
    {
     "name": "stderr",
     "output_type": "stream",
     "text": [
      "[Parallel(n_jobs=8)]: Using backend ThreadingBackend with 8 concurrent workers.\n",
      "[Parallel(n_jobs=8)]: Done   6 out of  10 | elapsed:    9.8s remaining:    6.5s\n",
      "[Parallel(n_jobs=8)]: Done  10 out of  10 | elapsed:   15.7s finished\n"
     ]
    },
    {
     "name": "stdout",
     "output_type": "stream",
     "text": [
      "DONE 850000\n"
     ]
    },
    {
     "name": "stderr",
     "output_type": "stream",
     "text": [
      "[Parallel(n_jobs=8)]: Using backend ThreadingBackend with 8 concurrent workers.\n",
      "[Parallel(n_jobs=8)]: Done   6 out of  10 | elapsed:    9.1s remaining:    6.0s\n",
      "[Parallel(n_jobs=8)]: Done  10 out of  10 | elapsed:   14.5s finished\n"
     ]
    },
    {
     "name": "stdout",
     "output_type": "stream",
     "text": [
      "DONE 900000\n"
     ]
    },
    {
     "name": "stderr",
     "output_type": "stream",
     "text": [
      "[Parallel(n_jobs=8)]: Using backend ThreadingBackend with 8 concurrent workers.\n",
      "[Parallel(n_jobs=8)]: Done   6 out of  10 | elapsed:    8.6s remaining:    5.7s\n",
      "[Parallel(n_jobs=8)]: Done  10 out of  10 | elapsed:   14.5s finished\n"
     ]
    },
    {
     "name": "stdout",
     "output_type": "stream",
     "text": [
      "DONE 950000\n"
     ]
    },
    {
     "name": "stderr",
     "output_type": "stream",
     "text": [
      "[Parallel(n_jobs=8)]: Using backend ThreadingBackend with 8 concurrent workers.\n",
      "[Parallel(n_jobs=8)]: Done   6 out of  10 | elapsed:    8.3s remaining:    5.5s\n"
     ]
    },
    {
     "name": "stdout",
     "output_type": "stream",
     "text": [
      "DONE 1000000\n"
     ]
    },
    {
     "name": "stderr",
     "output_type": "stream",
     "text": [
      "[Parallel(n_jobs=8)]: Done  10 out of  10 | elapsed:   13.1s finished\n"
     ]
    }
   ],
   "source": [
    "for line in looprange:\n",
    "    if line == 0:\n",
    "        #首次读取时，保留列名，并且不增加树的数量\n",
    "        header = \"infer\"\n",
    "        newtree = 0\n",
    "    else:\n",
    "        #非首次读取时，不要列名，每次增加10棵树\n",
    "        header = None\n",
    "        newtree = 10\n",
    "    \n",
    "    trainsubset = pd.read_csv(trainpath, header = header, index_col=0, skiprows=line, nrows=50000)\n",
    "    Xtrain = trainsubset.iloc[:,:-1]\n",
    "    Ytrain = trainsubset.iloc[:,-1]\n",
    "    reg.n_estimators += newtree\n",
    "    reg = reg.fit(Xtrain,Ytrain)\n",
    "    print(\"DONE\",line+50000)\n",
    "        \n",
    "    #When the data size of the training set is less than 50,000, break\n",
    "    if Xtrain.shape[0] < 50000:\n",
    "        break"
   ]
  },
  {
   "cell_type": "code",
   "execution_count": 85,
   "metadata": {},
   "outputs": [
    {
     "name": "stderr",
     "output_type": "stream",
     "text": [
      "d:\\CODE\\Lib\\site-packages\\sklearn\\base.py:457: UserWarning: X has feature names, but RandomForestRegressor was fitted without feature names\n",
      "  warnings.warn(\n",
      "[Parallel(n_jobs=8)]: Using backend ThreadingBackend with 8 concurrent workers.\n",
      "[Parallel(n_jobs=8)]: Done  34 tasks      | elapsed:    0.0s\n",
      "[Parallel(n_jobs=8)]: Done 184 tasks      | elapsed:    0.1s\n",
      "[Parallel(n_jobs=8)]: Done 200 out of 200 | elapsed:    0.1s finished\n"
     ]
    },
    {
     "data": {
      "text/plain": [
       "0.9903091075352629"
      ]
     },
     "execution_count": 85,
     "metadata": {},
     "output_type": "execute_result"
    }
   ],
   "source": [
    "reg.score(Xtest, Ytest) # R2 99.03091075352629% "
   ]
  },
  {
   "cell_type": "markdown",
   "metadata": {},
   "source": [
    "---"
   ]
  },
  {
   "cell_type": "markdown",
   "metadata": {},
   "source": [
    "- ### questions for Bagging"
   ]
  },
  {
   "cell_type": "markdown",
   "metadata": {},
   "source": [
    "- **Q1: Why does the bagging algorithm perform better than a single evaluator? **\n",
    "  \n",
    "**Generalization error is the error of the model on an unknown data set. Lower generalization error is the fundamental goal of all machine learning/deep learning modeling**. In machine learning, generalization error is generally considered to consist of bias, variance and noise. The bias is the difference between the predicted value and the true value, which measures the accuracy of the model. Variance is the variance of the results output by the model on different data sets and measures the stability of the model. Noise is information that is inevitable in the data collection process and has nothing to do with the true distribution of the data.\n",
    "\n",
    "When the algorithm is a regression algorithm and the model metric is MSE, the generalization error of the model can be defined as follows:\n",
    "\n",
    "$$\\begin{aligned} Generalization error&= bias^2 + variance + noise^2 \\end{aligned}$$\n",
    "<center>(This formula can be derived from the definitions of generalization error, bias, variance and noise)</center>\n",
    "\n",
    "**The basic idea of Bagging is to use the \"independence\" between weak evaluators to reduce the variance**, thereby reducing the overall generalization error. This idea can be extended to any algorithm or fusion method that uses weak classifiers in parallel, which greatly affects the actual results of the parallel fusion method. Among them, **\"reducing variance\" refers to the variance of the output result of the bagging algorithm must be smaller than the variance of the output result of the weak evaluator**. Therefore, on the same data, random forest is often more stable than a single decision tree, and therefore random forest The generalization ability is often stronger than that of a single decision tree."
   ]
  },
  {
   "cell_type": "markdown",
   "metadata": {},
   "source": [
    "- **Q2: Why can Bagging reduce variance? **"
   ]
  },
  {
   "cell_type": "markdown",
   "metadata": {},
   "source": [
    "It is difficult for us to intuitively understand the abstract conclusion \"Bagging reduces variance\", and it is even harder to explore the reasons behind it, but we can understand it mathematically.\n",
    "\n",
    "Taking random forest as an example, assuming that the random forest now contains $n$ weak evaluators ($n$ trees), and the output result of any weak evaluator is $X_i$, then the variance of the output results of all these weak evaluators Can be expressed as Var($X_i$). Suppose now we perform a regression task, the output of the forest is equal to the average of the output of all trees in the forest, so the output of the forest can be expressed as $\\bar{X} = \\frac{\\sum{X_i}}{n} $, so the variance of the random forest output result can be expressed as Var($\\bar{X}$), or it can be written as Var($\\frac{\\sum{X_i}}{n}$).\n",
    "\n",
    "Mathematically we can easily prove:\n",
    "\n",
    "**<center><font color=\"red\">When the trees in the forest are independent of each other,\n",
    "</font></center>**\n",
    "Var($\\boldsymbol{\\bar{X}}$) is always less than Var($\\boldsymbol{X_i}$)"
   ]
  },
  {
   "cell_type": "markdown",
   "metadata": {},
   "source": [
    "- **Q3: What are the basic conditions for Bagging to be effective? Is bagging always more effective than weak evaluators?**"
   ]
  },
  {
   "cell_type": "markdown",
   "metadata": {},
   "source": [
    "- 1. The bias of the weak evaluator is low. In particular, the accuracy of the weak classifier must reach at least 50%.\n",
    "- 2. The correlation between weak evaluators is weak and it is best to be independent of each other.\n",
    "- 3. A weak estimator is an evaluator with high variance and instability."
   ]
  },
  {
   "cell_type": "markdown",
   "metadata": {},
   "source": [
    "- **Q4: Can the Bagging method integrate algorithms other than decision trees?**\n",
    "\n",
    "Powerful and complex algorithms, such as decision trees and support vector machines, tend to have strong learning capabilities and tend to exhibit low bias and high variance. These algorithms are more suitable for Bagging. Low-complexity algorithms such as linear regression, logistic regression, and KNN have weak learning capabilities but stable performance. Therefore, they tend to exhibit high bias and low variance, and are not suitable for bagging."
   ]
  },
  {
   "cell_type": "markdown",
   "metadata": {},
   "source": [
    "- **Q5: How to enhance the independence of weak evaluators in Bagging?**\n",
    "\n",
    "When actually using data for training, it is difficult for us to make the weak evaluators in bagging completely independent of each other, mainly because:\n",
    "\n",
    "- The training data is consistent\n",
    "- The rules for weak evaluator construction are consistent\n",
    "\n",
    "As a result, the weak evaluators finally established are all similar, and the effectiveness of bagging cannot be fully exerted. In order to solve the problem of consistent weak evaluator construction rules, we have model fusion methods such as Averaging and Voting: basically, it uses the logic of bagging to fuse the results of several different algorithms. When we do not use model fusion, we can use \"randomness\" to weaken the connection between weak classifiers, enhance independence, and improve the effect of random forests.\n",
    "\n",
    "In the random forest, there is a natural mechanism to build trees by randomly selected samples, so there are parameters such as bootstrap and max_samples, as well as attributes such as out-of-bag data and out-of-bag evaluation indicator oob_score, which are intended to use different data to build trees. Weak evaluator. In addition to random sampling with replacement, max_features random sampling features can also be used for branching to increase the difference between weak evaluators.\n",
    "\n",
    "Precisely because of the different random methods, there are many different algorithms under the bagging integration method."
   ]
  },
  {
   "cell_type": "markdown",
   "metadata": {},
   "source": [
    "- **Q6: except to random forest, other bagging algorithms?**\n",
    "\n",
    "`sklearn.ensemble.ExtraTreesClassifier`\n",
    "`sklearn.ensemble.ExtraTreesRegressor`<br>\n",
    "Like Random Forest, Extreme Random Tree will randomly select features when building the tree, but the difference is that Random Forest will perform a complete and exquisite impurity calculation on **each node** of the randomly selected features, and then select The optimal node is found, while the extreme random tree will **randomly select several nodes** to perform impurity calculations, and then select the node with the largest decrease in impurity among these nodes. The trees grown in this way are less prone to overfitting than trees in random forests and are more independent, so extreme random trees can reduce variance to a greater extent.\n",
    "\n",
    "Of course, this method often leads to a sharp drop in bias, so extreme random trees are only suitable for data with excessive variance and very unstable data. We won't consider using extreme random trees except in special circumstances, but it's good to know that this algorithm exists."
   ]
  }
 ],
 "metadata": {
  "kernelspec": {
   "display_name": "base",
   "language": "python",
   "name": "python3"
  },
  "language_info": {
   "codemirror_mode": {
    "name": "ipython",
    "version": 3
   },
   "file_extension": ".py",
   "mimetype": "text/x-python",
   "name": "python",
   "nbconvert_exporter": "python",
   "pygments_lexer": "ipython3",
   "version": "3.11.5"
  }
 },
 "nbformat": 4,
 "nbformat_minor": 2
}
